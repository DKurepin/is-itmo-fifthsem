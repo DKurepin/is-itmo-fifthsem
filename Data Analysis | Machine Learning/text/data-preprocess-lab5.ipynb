{
 "cells": [
  {
   "cell_type": "code",
   "execution_count": null,
   "metadata": {
    "collapsed": true,
    "pycharm": {
     "is_executing": true
    }
   },
   "outputs": [],
   "source": [
    "import os\n",
    "from openai import OpenAI\n",
    "import pandas as pd"
   ]
  },
  {
   "cell_type": "code",
   "execution_count": 3,
   "outputs": [],
   "source": [
    "api_key = \"здесь был ключ\"\n",
    "os.environ[\"OPENAI_API_KEY\"] = api_key\n",
    "\n",
    "\n",
    "client = OpenAI()\n",
    "\n",
    "chat_completion = client.chat.completions.create(\n",
    "    messages=[\n",
    "        {\n",
    "            \"role\": \"user\",\n",
    "            \"content\": \"Как устроена модель GPT-3?\",\n",
    "        }\n",
    "    ],\n",
    "    # model=\"gpt-4-1106-preview\",\n",
    "    model=\"gpt-3.5-turbo\",\n",
    ")"
   ],
   "metadata": {
    "collapsed": false
   }
  },
  {
   "cell_type": "code",
   "execution_count": 4,
   "outputs": [
    {
     "name": "stdout",
     "output_type": "stream",
     "text": [
      "GPT-3 (Generative Pre-trained Transformer 3) - это языковая модель, разработанная компанией OpenAI. Она основана на технологии трансформера, которая представляет собой архитектуру нейронной сети, специально разработанную для работы с последовательными данных, такими как текст.\n",
      "\n",
      "Модель GPT-3 использует методы машинного обучения, а именно, технику предварительного обучения на больших объемах текста. Сначала модель подвергается предварительному обучению на огромном корпусе текстов из интернета, чтобы научиться различным языковым структурам и связям.\n",
      "\n",
      "После предварительного обучения модель дополняется небольшим количеством обучающих данных для выполнения конкретной задачи. Таким образом, GPT-3 может выполнять различные языковые задачи, такие как генерация текста, отвечая на вопросы, перевод текста, составление стихотворений и многое другое.\n",
      "\n",
      "Архитектура трансформера в GPT-3 состоит из нескольких слоев, называемых трансформерными блоками. Они состоят из множества внимания (attention mechanism) для анализа связей между словами в предложении. Такая архитектура позволяет модели эффективно обрабатывать и генерировать тексты даже на очень больших объемах данных.\n",
      "\n",
      "GPT-3 имеет более 175 миллиардов параметров, что делает его самой масштабной языковой моделью, когда-либо созданной. Это обеспечивает ей способность генерировать качественные и связные ответы на широкий спектр языковых задач.\n"
     ]
    }
   ],
   "source": [
    "print(chat_completion.choices[0].message.content)"
   ],
   "metadata": {
    "collapsed": false
   }
  },
  {
   "cell_type": "code",
   "execution_count": 88,
   "outputs": [],
   "source": [
    "def chat_gpt(prompt, engine):\n",
    "\n",
    "    chat_completion = client.chat.completions.create(\n",
    "    messages=[\n",
    "        {\n",
    "            \"role\": \"user\",\n",
    "            \"content\": prompt,\n",
    "        }\n",
    "    ],\n",
    "    model=engine,\n",
    "    )\n",
    "    return chat_completion.choices[0].message.content"
   ],
   "metadata": {
    "collapsed": false
   }
  },
  {
   "cell_type": "code",
   "execution_count": 65,
   "outputs": [],
   "source": [
    "# df = pd.read_csv(\"articles_new.csv\")\n",
    "df = pd.read_csv(\"sampling_arts.csv\")"
   ],
   "metadata": {
    "collapsed": false
   }
  },
  {
   "cell_type": "code",
   "execution_count": 66,
   "outputs": [
    {
     "data": {
      "text/plain": "                                        link  \\\n0     https://www.d-kvadrat.ru/novosti/23002   \n1     https://www.d-kvadrat.ru/novosti/23004   \n2     https://www.d-kvadrat.ru/novosti/23000   \n3     https://www.d-kvadrat.ru/novosti/23007   \n4     https://www.d-kvadrat.ru/novosti/23008   \n...                                      ...   \n4356  https://www.d-kvadrat.ru/novosti/28709   \n4357  https://www.d-kvadrat.ru/novosti/28712   \n4358  https://www.d-kvadrat.ru/novosti/28708   \n4359  https://www.d-kvadrat.ru/novosti/28711   \n4360  https://www.d-kvadrat.ru/novosti/28713   \n\n                                                  title  \\\n0     В «Ижавиа» рассказали о правилах провоза лыжно...   \n1     Сегодня индекс МосБиржи продолжит проторговыва...   \n2     Алан Лушников: калибр армейских автоматов нужн...   \n3     Bloomberg: рецессия в России продлится до III ...   \n4     Подведены предварительные итоги здравоохранени...   \n...                                                 ...   \n4356   Удмуртия вошла в ТОП-5 «зеленых» регионов России   \n4357  С приближением заседания ЦБ инверсия кривой ОФ...   \n4358  100 школьников Ижевска посетили музей ИРЗ в ра...   \n4359                   Сотрудник ИРЗ на доске почета УР   \n4360       Статистика по социальным выплатам в Удмуртии   \n\n                                                article  \n0     В Ижавиа рассказали о правилах провоза спортив...  \n1     Сегодня индекс МосБиржи продолжит проторговыва...  \n2     Президент концерна Калашников Алан Лушников за...  \n3     Российская экономика начнет расти только в тре...  \n4     О предварительных итогах работы отрасли здраво...  \n...                                                 ...  \n4356  Удмуртия продемонстрировала высокий уровень ра...  \n4357  С приближением заседания ЦБ инверсия кривой ОФ...  \n4358  В ноябре более  школьников    классов посетили...  \n4359  К Дню государственности Удмуртии была обновлен...  \n4360  В январесентябре  года население республики по...  \n\n[4361 rows x 3 columns]",
      "text/html": "<div>\n<style scoped>\n    .dataframe tbody tr th:only-of-type {\n        vertical-align: middle;\n    }\n\n    .dataframe tbody tr th {\n        vertical-align: top;\n    }\n\n    .dataframe thead th {\n        text-align: right;\n    }\n</style>\n<table border=\"1\" class=\"dataframe\">\n  <thead>\n    <tr style=\"text-align: right;\">\n      <th></th>\n      <th>link</th>\n      <th>title</th>\n      <th>article</th>\n    </tr>\n  </thead>\n  <tbody>\n    <tr>\n      <th>0</th>\n      <td>https://www.d-kvadrat.ru/novosti/23002</td>\n      <td>В «Ижавиа» рассказали о правилах провоза лыжно...</td>\n      <td>В Ижавиа рассказали о правилах провоза спортив...</td>\n    </tr>\n    <tr>\n      <th>1</th>\n      <td>https://www.d-kvadrat.ru/novosti/23004</td>\n      <td>Сегодня индекс МосБиржи продолжит проторговыва...</td>\n      <td>Сегодня индекс МосБиржи продолжит проторговыва...</td>\n    </tr>\n    <tr>\n      <th>2</th>\n      <td>https://www.d-kvadrat.ru/novosti/23000</td>\n      <td>Алан Лушников: калибр армейских автоматов нужн...</td>\n      <td>Президент концерна Калашников Алан Лушников за...</td>\n    </tr>\n    <tr>\n      <th>3</th>\n      <td>https://www.d-kvadrat.ru/novosti/23007</td>\n      <td>Bloomberg: рецессия в России продлится до III ...</td>\n      <td>Российская экономика начнет расти только в тре...</td>\n    </tr>\n    <tr>\n      <th>4</th>\n      <td>https://www.d-kvadrat.ru/novosti/23008</td>\n      <td>Подведены предварительные итоги здравоохранени...</td>\n      <td>О предварительных итогах работы отрасли здраво...</td>\n    </tr>\n    <tr>\n      <th>...</th>\n      <td>...</td>\n      <td>...</td>\n      <td>...</td>\n    </tr>\n    <tr>\n      <th>4356</th>\n      <td>https://www.d-kvadrat.ru/novosti/28709</td>\n      <td>Удмуртия вошла в ТОП-5 «зеленых» регионов России</td>\n      <td>Удмуртия продемонстрировала высокий уровень ра...</td>\n    </tr>\n    <tr>\n      <th>4357</th>\n      <td>https://www.d-kvadrat.ru/novosti/28712</td>\n      <td>С приближением заседания ЦБ инверсия кривой ОФ...</td>\n      <td>С приближением заседания ЦБ инверсия кривой ОФ...</td>\n    </tr>\n    <tr>\n      <th>4358</th>\n      <td>https://www.d-kvadrat.ru/novosti/28708</td>\n      <td>100 школьников Ижевска посетили музей ИРЗ в ра...</td>\n      <td>В ноябре более  школьников    классов посетили...</td>\n    </tr>\n    <tr>\n      <th>4359</th>\n      <td>https://www.d-kvadrat.ru/novosti/28711</td>\n      <td>Сотрудник ИРЗ на доске почета УР</td>\n      <td>К Дню государственности Удмуртии была обновлен...</td>\n    </tr>\n    <tr>\n      <th>4360</th>\n      <td>https://www.d-kvadrat.ru/novosti/28713</td>\n      <td>Статистика по социальным выплатам в Удмуртии</td>\n      <td>В январесентябре  года население республики по...</td>\n    </tr>\n  </tbody>\n</table>\n<p>4361 rows × 3 columns</p>\n</div>"
     },
     "execution_count": 66,
     "metadata": {},
     "output_type": "execute_result"
    }
   ],
   "source": [
    "df"
   ],
   "metadata": {
    "collapsed": false
   }
  },
  {
   "cell_type": "code",
   "execution_count": 67,
   "outputs": [
    {
     "name": "stderr",
     "output_type": "stream",
     "text": [
      "/Users/DNK/PycharmProjects/ML+DA/venv/lib/python3.11/site-packages/sklearn/cluster/_kmeans.py:1416: FutureWarning: The default value of `n_init` will change from 10 to 'auto' in 1.4. Set the value of `n_init` explicitly to suppress the warning\n",
      "  super()._check_params_vs_input(X, default_n_init=10)\n"
     ]
    },
    {
     "name": "stdout",
     "output_type": "stream",
     "text": [
      "Cluster 1:\n",
      "1077    Помощь фронту, Своих не бросаем, КнигиДонбассу...\n",
      "4012    Такие результаты опубликовала прессслужба Удму...\n",
      "2824    С момента запуска антиалкогольного проекта Тре...\n",
      "2895    Самки Юки и Аме родили двух оленят  мальчика и...\n",
      "3473    Ижевск планирует пополнить свой общественный т...\n",
      "Name: article, dtype: object\n",
      "\n",
      "Cluster 2:\n",
      "2610    Временно исполняющий полномочия Главы города И...\n",
      "2882    С такой просьбой обратились жители микрорайона...\n",
      "567     С  по  января  изза резкого похолодания отмени...\n",
      "3840    На данный момент в Ижевске существуют  действу...\n",
      "3073    В предстоящие выходные ограничат движение тран...\n",
      "Name: article, dtype: object\n",
      "\n",
      "Cluster 3:\n",
      "1627    Индекс МосБиржи , продолжил уверенно расти, пр...\n",
      "4184    Индекс МосБиржи завершил торги в понедельник н...\n",
      "1836    Индекс МосБиржи , обновил максимумы сентября п...\n",
      "4143    В четверг индекс МосБиржи опустился ниже отмет...\n",
      "321     Индекс МосБиржи , во вторник завершил день в с...\n",
      "Name: article, dtype: object\n",
      "\n",
      "Cluster 4:\n",
      "1826    Дарья Трепова получила посылку в Москве, доста...\n",
      "140     Нефть  держится около  долл.барр., в фокусе за...\n",
      "1049    В ТРЦ Италмас оставили один вход, у которого у...\n",
      "401     ПАО Т Плюс в партнерстве с Ижевским технически...\n",
      "135     Приближаются новогодние праздники, а это значи...\n",
      "Name: article, dtype: object\n",
      "\n",
      "Cluster 5:\n",
      "825     Курс доллара в понедельник продолжил консолида...\n",
      "389     Ухудшение конъюнктуры внешних рынков оказывает...\n",
      "3357    В начале недели давление на котировки ОФЗ сохр...\n",
      "1256    Выручка ООО Лада Ижевск в  году снизилась в , ...\n",
      "3496    Доллар сегодня может вернуться выше  руб., соо...\n",
      "Name: article, dtype: object\n",
      "\n",
      "Silhouette Score: 0.054142191788971096\n"
     ]
    }
   ],
   "source": [
    "import nltk\n",
    "from sklearn.feature_extraction.text import TfidfVectorizer\n",
    "from sklearn.cluster import KMeans\n",
    "from sklearn.metrics import silhouette_score\n",
    "import pandas as pd\n",
    "\n",
    "# df = pd.read_csv('articles_balanced.csv')\n",
    "stopwords = nltk.corpus.stopwords.words('russian')\n",
    "\n",
    "# Инициализируйте TfidfVectorizer для извлечения признаков из текстов\n",
    "vectorizer = TfidfVectorizer(stop_words=stopwords, max_features=100)\n",
    "\n",
    "# Преобразуйте текстовые данные в матрицу TF-IDF признаков\n",
    "X = vectorizer.fit_transform(df['article'])\n",
    "\n",
    "# Определите количество кластеров (в данном случае, предположим, что у нас 5 тем)\n",
    "num_clusters = 5\n",
    "\n",
    "# Примените K-средних для кластеризации\n",
    "kmeans = KMeans(n_clusters=num_clusters, random_state=42)\n",
    "kmeans.fit(X)\n",
    "\n",
    "\n",
    "\n",
    "# Добавьте метки кластеров в DataFrame\n",
    "df['кластер'] = kmeans.labels_\n",
    "\n",
    "# Выведите примеры текстов для каждого кластера\n",
    "for i in range(num_clusters):\n",
    "    cluster_samples = df[df['кластер'] == i]['article'].sample(min(5, len(df[df['кластер'] == i])))\n",
    "    print(f'Cluster {i + 1}:\\n{cluster_samples}\\n')\n",
    "\n",
    "# Вычислите silhouette score, чтобы оценить качество кластеризации (от 0 до 1, где 1 - лучше)\n",
    "silhouette_avg = silhouette_score(X, kmeans.labels_)\n",
    "print(f'Silhouette Score: {silhouette_avg}')"
   ],
   "metadata": {
    "collapsed": false
   }
  },
  {
   "cell_type": "code",
   "execution_count": 68,
   "outputs": [
    {
     "data": {
      "text/plain": "                                        link  \\\n0     https://www.d-kvadrat.ru/novosti/23002   \n1     https://www.d-kvadrat.ru/novosti/23004   \n2     https://www.d-kvadrat.ru/novosti/23000   \n3     https://www.d-kvadrat.ru/novosti/23007   \n4     https://www.d-kvadrat.ru/novosti/23008   \n...                                      ...   \n4356  https://www.d-kvadrat.ru/novosti/28709   \n4357  https://www.d-kvadrat.ru/novosti/28712   \n4358  https://www.d-kvadrat.ru/novosti/28708   \n4359  https://www.d-kvadrat.ru/novosti/28711   \n4360  https://www.d-kvadrat.ru/novosti/28713   \n\n                                                  title  \\\n0     В «Ижавиа» рассказали о правилах провоза лыжно...   \n1     Сегодня индекс МосБиржи продолжит проторговыва...   \n2     Алан Лушников: калибр армейских автоматов нужн...   \n3     Bloomberg: рецессия в России продлится до III ...   \n4     Подведены предварительные итоги здравоохранени...   \n...                                                 ...   \n4356   Удмуртия вошла в ТОП-5 «зеленых» регионов России   \n4357  С приближением заседания ЦБ инверсия кривой ОФ...   \n4358  100 школьников Ижевска посетили музей ИРЗ в ра...   \n4359                   Сотрудник ИРЗ на доске почета УР   \n4360       Статистика по социальным выплатам в Удмуртии   \n\n                                                article  кластер  \n0     В Ижавиа рассказали о правилах провоза спортив...        3  \n1     Сегодня индекс МосБиржи продолжит проторговыва...        2  \n2     Президент концерна Калашников Алан Лушников за...        3  \n3     Российская экономика начнет расти только в тре...        3  \n4     О предварительных итогах работы отрасли здраво...        0  \n...                                                 ...      ...  \n4356  Удмуртия продемонстрировала высокий уровень ра...        0  \n4357  С приближением заседания ЦБ инверсия кривой ОФ...        4  \n4358  В ноябре более  школьников    классов посетили...        3  \n4359  К Дню государственности Удмуртии была обновлен...        0  \n4360  В январесентябре  года население республики по...        3  \n\n[4361 rows x 4 columns]",
      "text/html": "<div>\n<style scoped>\n    .dataframe tbody tr th:only-of-type {\n        vertical-align: middle;\n    }\n\n    .dataframe tbody tr th {\n        vertical-align: top;\n    }\n\n    .dataframe thead th {\n        text-align: right;\n    }\n</style>\n<table border=\"1\" class=\"dataframe\">\n  <thead>\n    <tr style=\"text-align: right;\">\n      <th></th>\n      <th>link</th>\n      <th>title</th>\n      <th>article</th>\n      <th>кластер</th>\n    </tr>\n  </thead>\n  <tbody>\n    <tr>\n      <th>0</th>\n      <td>https://www.d-kvadrat.ru/novosti/23002</td>\n      <td>В «Ижавиа» рассказали о правилах провоза лыжно...</td>\n      <td>В Ижавиа рассказали о правилах провоза спортив...</td>\n      <td>3</td>\n    </tr>\n    <tr>\n      <th>1</th>\n      <td>https://www.d-kvadrat.ru/novosti/23004</td>\n      <td>Сегодня индекс МосБиржи продолжит проторговыва...</td>\n      <td>Сегодня индекс МосБиржи продолжит проторговыва...</td>\n      <td>2</td>\n    </tr>\n    <tr>\n      <th>2</th>\n      <td>https://www.d-kvadrat.ru/novosti/23000</td>\n      <td>Алан Лушников: калибр армейских автоматов нужн...</td>\n      <td>Президент концерна Калашников Алан Лушников за...</td>\n      <td>3</td>\n    </tr>\n    <tr>\n      <th>3</th>\n      <td>https://www.d-kvadrat.ru/novosti/23007</td>\n      <td>Bloomberg: рецессия в России продлится до III ...</td>\n      <td>Российская экономика начнет расти только в тре...</td>\n      <td>3</td>\n    </tr>\n    <tr>\n      <th>4</th>\n      <td>https://www.d-kvadrat.ru/novosti/23008</td>\n      <td>Подведены предварительные итоги здравоохранени...</td>\n      <td>О предварительных итогах работы отрасли здраво...</td>\n      <td>0</td>\n    </tr>\n    <tr>\n      <th>...</th>\n      <td>...</td>\n      <td>...</td>\n      <td>...</td>\n      <td>...</td>\n    </tr>\n    <tr>\n      <th>4356</th>\n      <td>https://www.d-kvadrat.ru/novosti/28709</td>\n      <td>Удмуртия вошла в ТОП-5 «зеленых» регионов России</td>\n      <td>Удмуртия продемонстрировала высокий уровень ра...</td>\n      <td>0</td>\n    </tr>\n    <tr>\n      <th>4357</th>\n      <td>https://www.d-kvadrat.ru/novosti/28712</td>\n      <td>С приближением заседания ЦБ инверсия кривой ОФ...</td>\n      <td>С приближением заседания ЦБ инверсия кривой ОФ...</td>\n      <td>4</td>\n    </tr>\n    <tr>\n      <th>4358</th>\n      <td>https://www.d-kvadrat.ru/novosti/28708</td>\n      <td>100 школьников Ижевска посетили музей ИРЗ в ра...</td>\n      <td>В ноябре более  школьников    классов посетили...</td>\n      <td>3</td>\n    </tr>\n    <tr>\n      <th>4359</th>\n      <td>https://www.d-kvadrat.ru/novosti/28711</td>\n      <td>Сотрудник ИРЗ на доске почета УР</td>\n      <td>К Дню государственности Удмуртии была обновлен...</td>\n      <td>0</td>\n    </tr>\n    <tr>\n      <th>4360</th>\n      <td>https://www.d-kvadrat.ru/novosti/28713</td>\n      <td>Статистика по социальным выплатам в Удмуртии</td>\n      <td>В январесентябре  года население республики по...</td>\n      <td>3</td>\n    </tr>\n  </tbody>\n</table>\n<p>4361 rows × 4 columns</p>\n</div>"
     },
     "execution_count": 68,
     "metadata": {},
     "output_type": "execute_result"
    }
   ],
   "source": [
    "df"
   ],
   "metadata": {
    "collapsed": false
   }
  },
  {
   "cell_type": "code",
   "execution_count": 69,
   "outputs": [],
   "source": [
    "# все у кого кластер 2 переписать на 3\n",
    "df['кластер'] = df['кластер'].replace(2, 4)"
   ],
   "metadata": {
    "collapsed": false
   }
  },
  {
   "cell_type": "code",
   "execution_count": 70,
   "outputs": [
    {
     "name": "stdout",
     "output_type": "stream",
     "text": [
      "кластер\n",
      "3    1551\n",
      "0    1544\n",
      "1     802\n",
      "4     464\n",
      "Name: count, dtype: int64\n"
     ]
    }
   ],
   "source": [
    "print(df['кластер'].value_counts())"
   ],
   "metadata": {
    "collapsed": false
   }
  },
  {
   "cell_type": "code",
   "execution_count": 71,
   "outputs": [],
   "source": [
    "def solve_disbalance_clusters(df, num_clusters):\n",
    "    df_balanced = pd.DataFrame()\n",
    "    for i in range(num_clusters):\n",
    "        cluster_data = df[df['кластер'] == i]\n",
    "        if len(cluster_data) > 260:\n",
    "            cluster_data = cluster_data.sample(260)\n",
    "            df_balanced = pd.concat([df_balanced, cluster_data])\n",
    "        else:\n",
    "            cluster_data = cluster_data.sample(len(cluster_data))\n",
    "            df_balanced = pd.concat([df_balanced, cluster_data])\n",
    "    return df_balanced"
   ],
   "metadata": {
    "collapsed": false
   }
  },
  {
   "cell_type": "code",
   "execution_count": 72,
   "outputs": [],
   "source": [
    "df_balanced = solve_disbalance_clusters(df, num_clusters)"
   ],
   "metadata": {
    "collapsed": false
   }
  },
  {
   "cell_type": "code",
   "execution_count": 73,
   "outputs": [],
   "source": [
    "df_balanced.to_csv(\"articles_balanced.csv\", index=False)\n",
    "# df_balanced.to_csv(\"sampling_arts.csv\", index=False)"
   ],
   "metadata": {
    "collapsed": false
   }
  },
  {
   "cell_type": "code",
   "execution_count": 74,
   "outputs": [
    {
     "name": "stdout",
     "output_type": "stream",
     "text": [
      "Cluster 1:\n",
      "700    Ночью  января в деревне Бажаново произошло воз...\n",
      "Name: article, dtype: object\n",
      "\n",
      "Cluster 2:\n",
      "3045    В рамках активной реализации национального про...\n",
      "Name: article, dtype: object\n",
      "\n",
      "Cluster 3:\n",
      "Series([], Name: article, dtype: object)\n",
      "\n",
      "Cluster 4:\n",
      "563    Ровно  лет назад,  января  года, состоялся пер...\n",
      "Name: article, dtype: object\n",
      "\n",
      "Cluster 5:\n",
      "832    В понедельник,  января, на рынке облигаций фед...\n",
      "Name: article, dtype: object\n",
      "\n"
     ]
    }
   ],
   "source": [
    "#вывести по одному тексту из каждого кластера\n",
    "for i in range(num_clusters):\n",
    "    cluster_samples = df_balanced[df_balanced['кластер'] == i]['article'].sample(min(1, len(df_balanced[df_balanced['кластер'] == i])))\n",
    "    print(f'Cluster {i + 1}:\\n{cluster_samples}\\n')"
   ],
   "metadata": {
    "collapsed": false
   }
  },
  {
   "cell_type": "code",
   "execution_count": null,
   "outputs": [],
   "source": [
    "df = pd.read_csv(\"articles_new.csv\")"
   ],
   "metadata": {
    "collapsed": false
   }
  },
  {
   "cell_type": "code",
   "execution_count": 75,
   "outputs": [
    {
     "data": {
      "text/plain": "                                        link  \\\n0     https://www.d-kvadrat.ru/novosti/24796   \n1     https://www.d-kvadrat.ru/novosti/26425   \n2     https://www.d-kvadrat.ru/novosti/28679   \n3     https://www.d-kvadrat.ru/novosti/27700   \n4     https://www.d-kvadrat.ru/novosti/23134   \n...                                      ...   \n1035  https://www.d-kvadrat.ru/novosti/26396   \n1036  https://www.d-kvadrat.ru/novosti/25074   \n1037  https://www.d-kvadrat.ru/novosti/27527   \n1038  https://www.d-kvadrat.ru/novosti/27767   \n1039  https://www.d-kvadrat.ru/novosti/25353   \n\n                                                  title  \\\n0     В Удмуртии простились с Константином Кутяновым...   \n1     Спасатели оперативно освободили закрытого в ма...   \n2     Дети участников СВО и из «Движения первых» пос...   \n3     В Удмуртии начнут отмечать День мировой юстици...   \n4     Сегодня на сессии Госсовета Удмуртии депутаты ...   \n...                                                 ...   \n1035  Пара доллар-рубль  перешла к консолидации в уз...   \n1036           Индекс МосБиржи продолжил уверенно расти   \n1037  Потенциал для восстановления котировок ОФЗ сох...   \n1038  Российский рынок в пятницу продолжил восходящу...   \n1039  Индекс МосБиржи в ходе торгов в понедельник об...   \n\n                                                article  кластер  \n0      марта в Удмуртии простились с Константином Ку...        0  \n1     Вчера,  июня, спасатели Удмуртии среагировали ...        0  \n2     На выставке ребятам особенно запомнился павиль...        0  \n3     Такое решение было принято  сентября в ходе се...        0  \n4     На прошедшей сегодня,  ноября, сессии Государс...        0  \n...                                                 ...      ...  \n1035  Пара долларрубль обновив в рамках недели макси...        4  \n1036  Индекс МосБиржи , продолжил уверенно расти, пр...        4  \n1037  Потенциал для восстановления котировок ОФЗ сох...        4  \n1038  Российский рынок в пятницу продолжил восходящу...        4  \n1039  Индекс МосБиржи  в ходе торгов в понедельник о...        4  \n\n[1040 rows x 4 columns]",
      "text/html": "<div>\n<style scoped>\n    .dataframe tbody tr th:only-of-type {\n        vertical-align: middle;\n    }\n\n    .dataframe tbody tr th {\n        vertical-align: top;\n    }\n\n    .dataframe thead th {\n        text-align: right;\n    }\n</style>\n<table border=\"1\" class=\"dataframe\">\n  <thead>\n    <tr style=\"text-align: right;\">\n      <th></th>\n      <th>link</th>\n      <th>title</th>\n      <th>article</th>\n      <th>кластер</th>\n    </tr>\n  </thead>\n  <tbody>\n    <tr>\n      <th>0</th>\n      <td>https://www.d-kvadrat.ru/novosti/24796</td>\n      <td>В Удмуртии простились с Константином Кутяновым...</td>\n      <td>марта в Удмуртии простились с Константином Ку...</td>\n      <td>0</td>\n    </tr>\n    <tr>\n      <th>1</th>\n      <td>https://www.d-kvadrat.ru/novosti/26425</td>\n      <td>Спасатели оперативно освободили закрытого в ма...</td>\n      <td>Вчера,  июня, спасатели Удмуртии среагировали ...</td>\n      <td>0</td>\n    </tr>\n    <tr>\n      <th>2</th>\n      <td>https://www.d-kvadrat.ru/novosti/28679</td>\n      <td>Дети участников СВО и из «Движения первых» пос...</td>\n      <td>На выставке ребятам особенно запомнился павиль...</td>\n      <td>0</td>\n    </tr>\n    <tr>\n      <th>3</th>\n      <td>https://www.d-kvadrat.ru/novosti/27700</td>\n      <td>В Удмуртии начнут отмечать День мировой юстици...</td>\n      <td>Такое решение было принято  сентября в ходе се...</td>\n      <td>0</td>\n    </tr>\n    <tr>\n      <th>4</th>\n      <td>https://www.d-kvadrat.ru/novosti/23134</td>\n      <td>Сегодня на сессии Госсовета Удмуртии депутаты ...</td>\n      <td>На прошедшей сегодня,  ноября, сессии Государс...</td>\n      <td>0</td>\n    </tr>\n    <tr>\n      <th>...</th>\n      <td>...</td>\n      <td>...</td>\n      <td>...</td>\n      <td>...</td>\n    </tr>\n    <tr>\n      <th>1035</th>\n      <td>https://www.d-kvadrat.ru/novosti/26396</td>\n      <td>Пара доллар-рубль  перешла к консолидации в уз...</td>\n      <td>Пара долларрубль обновив в рамках недели макси...</td>\n      <td>4</td>\n    </tr>\n    <tr>\n      <th>1036</th>\n      <td>https://www.d-kvadrat.ru/novosti/25074</td>\n      <td>Индекс МосБиржи продолжил уверенно расти</td>\n      <td>Индекс МосБиржи , продолжил уверенно расти, пр...</td>\n      <td>4</td>\n    </tr>\n    <tr>\n      <th>1037</th>\n      <td>https://www.d-kvadrat.ru/novosti/27527</td>\n      <td>Потенциал для восстановления котировок ОФЗ сох...</td>\n      <td>Потенциал для восстановления котировок ОФЗ сох...</td>\n      <td>4</td>\n    </tr>\n    <tr>\n      <th>1038</th>\n      <td>https://www.d-kvadrat.ru/novosti/27767</td>\n      <td>Российский рынок в пятницу продолжил восходящу...</td>\n      <td>Российский рынок в пятницу продолжил восходящу...</td>\n      <td>4</td>\n    </tr>\n    <tr>\n      <th>1039</th>\n      <td>https://www.d-kvadrat.ru/novosti/25353</td>\n      <td>Индекс МосБиржи в ходе торгов в понедельник об...</td>\n      <td>Индекс МосБиржи  в ходе торгов в понедельник о...</td>\n      <td>4</td>\n    </tr>\n  </tbody>\n</table>\n<p>1040 rows × 4 columns</p>\n</div>"
     },
     "execution_count": 75,
     "metadata": {},
     "output_type": "execute_result"
    }
   ],
   "source": [
    "# articles_df = pd.read_csv(\"articles_balanced.csv\")\n",
    "articles_df = pd.read_csv(\"sampling_arts.csv\")\n",
    "articles_df"
   ],
   "metadata": {
    "collapsed": false
   }
  },
  {
   "cell_type": "code",
   "execution_count": 76,
   "outputs": [],
   "source": [
    "def split_df_into_three(df):\n",
    "    df_1 = df.iloc[:int(len(df)/3)]\n",
    "    df_2 = df.iloc[int(len(df)/3):int(len(df)/3)*2]\n",
    "    df_3 = df.iloc[int(len(df)/3)*2:]\n",
    "    return df_1, df_2, df_3"
   ],
   "metadata": {
    "collapsed": false
   }
  },
  {
   "cell_type": "code",
   "execution_count": 77,
   "outputs": [],
   "source": [
    "df_1, df_2, df_3 = split_df_into_three(articles_df)"
   ],
   "metadata": {
    "collapsed": false
   }
  },
  {
   "cell_type": "code",
   "execution_count": null,
   "outputs": [],
   "source": [
    "# df_1.index = range(len(df_1))\n",
    "# df_2.index = range(len(df_2))\n",
    "# df_3.index = range(len(df_3))"
   ],
   "metadata": {
    "collapsed": false
   }
  },
  {
   "cell_type": "code",
   "execution_count": 99,
   "outputs": [
    {
     "data": {
      "text/plain": "                                       link  \\\n0    https://www.d-kvadrat.ru/novosti/24796   \n1    https://www.d-kvadrat.ru/novosti/26425   \n2    https://www.d-kvadrat.ru/novosti/28679   \n3    https://www.d-kvadrat.ru/novosti/27700   \n4    https://www.d-kvadrat.ru/novosti/23134   \n..                                      ...   \n341  https://www.d-kvadrat.ru/novosti/24627   \n342  https://www.d-kvadrat.ru/novosti/26148   \n343  https://www.d-kvadrat.ru/novosti/26038   \n344  https://www.d-kvadrat.ru/novosti/23123   \n345  https://www.d-kvadrat.ru/novosti/27504   \n\n                                                 title  \\\n0    В Удмуртии простились с Константином Кутяновым...   \n1    Спасатели оперативно освободили закрытого в ма...   \n2    Дети участников СВО и из «Движения первых» пос...   \n3    В Удмуртии начнут отмечать День мировой юстици...   \n4    Сегодня на сессии Госсовета Удмуртии депутаты ...   \n..                                                 ...   \n341  Удмуртский биатлонист Ильназ Мухамедзянов выиг...   \n342  В Ижевске начались ремонтные работы тротуаров ...   \n343  Белгородский губернатор: В Белгородскую област...   \n344  ​124 тонны покрышек вывезено с контейнерных пл...   \n345  Ижевск готовится к массовому забегу \"Кросс нации\"   \n\n                                               article  кластер emotion  \n0     марта в Удмуртии простились с Константином Ку...        0          \n1    Вчера,  июня, спасатели Удмуртии среагировали ...        0          \n2    На выставке ребятам особенно запомнился павиль...        0          \n3    Такое решение было принято  сентября в ходе се...        0          \n4    На прошедшей сегодня,  ноября, сессии Государс...        0          \n..                                                 ...      ...     ...  \n341  Удмуртский биатлонист Ильназ Мухамедзянов выиг...        1          \n342  На трех тротуарах Ижевска начались ремонтные р...        1          \n343  Владимиру Путину доложили о попытке прорыва ук...        1          \n344  С августа по ноябрь в Ижевске был организован ...        1          \n345  В Ижевске намечается мероприятие, которое приз...        1          \n\n[346 rows x 5 columns]",
      "text/html": "<div>\n<style scoped>\n    .dataframe tbody tr th:only-of-type {\n        vertical-align: middle;\n    }\n\n    .dataframe tbody tr th {\n        vertical-align: top;\n    }\n\n    .dataframe thead th {\n        text-align: right;\n    }\n</style>\n<table border=\"1\" class=\"dataframe\">\n  <thead>\n    <tr style=\"text-align: right;\">\n      <th></th>\n      <th>link</th>\n      <th>title</th>\n      <th>article</th>\n      <th>кластер</th>\n      <th>emotion</th>\n    </tr>\n  </thead>\n  <tbody>\n    <tr>\n      <th>0</th>\n      <td>https://www.d-kvadrat.ru/novosti/24796</td>\n      <td>В Удмуртии простились с Константином Кутяновым...</td>\n      <td>марта в Удмуртии простились с Константином Ку...</td>\n      <td>0</td>\n      <td></td>\n    </tr>\n    <tr>\n      <th>1</th>\n      <td>https://www.d-kvadrat.ru/novosti/26425</td>\n      <td>Спасатели оперативно освободили закрытого в ма...</td>\n      <td>Вчера,  июня, спасатели Удмуртии среагировали ...</td>\n      <td>0</td>\n      <td></td>\n    </tr>\n    <tr>\n      <th>2</th>\n      <td>https://www.d-kvadrat.ru/novosti/28679</td>\n      <td>Дети участников СВО и из «Движения первых» пос...</td>\n      <td>На выставке ребятам особенно запомнился павиль...</td>\n      <td>0</td>\n      <td></td>\n    </tr>\n    <tr>\n      <th>3</th>\n      <td>https://www.d-kvadrat.ru/novosti/27700</td>\n      <td>В Удмуртии начнут отмечать День мировой юстици...</td>\n      <td>Такое решение было принято  сентября в ходе се...</td>\n      <td>0</td>\n      <td></td>\n    </tr>\n    <tr>\n      <th>4</th>\n      <td>https://www.d-kvadrat.ru/novosti/23134</td>\n      <td>Сегодня на сессии Госсовета Удмуртии депутаты ...</td>\n      <td>На прошедшей сегодня,  ноября, сессии Государс...</td>\n      <td>0</td>\n      <td></td>\n    </tr>\n    <tr>\n      <th>...</th>\n      <td>...</td>\n      <td>...</td>\n      <td>...</td>\n      <td>...</td>\n      <td>...</td>\n    </tr>\n    <tr>\n      <th>341</th>\n      <td>https://www.d-kvadrat.ru/novosti/24627</td>\n      <td>Удмуртский биатлонист Ильназ Мухамедзянов выиг...</td>\n      <td>Удмуртский биатлонист Ильназ Мухамедзянов выиг...</td>\n      <td>1</td>\n      <td></td>\n    </tr>\n    <tr>\n      <th>342</th>\n      <td>https://www.d-kvadrat.ru/novosti/26148</td>\n      <td>В Ижевске начались ремонтные работы тротуаров ...</td>\n      <td>На трех тротуарах Ижевска начались ремонтные р...</td>\n      <td>1</td>\n      <td></td>\n    </tr>\n    <tr>\n      <th>343</th>\n      <td>https://www.d-kvadrat.ru/novosti/26038</td>\n      <td>Белгородский губернатор: В Белгородскую област...</td>\n      <td>Владимиру Путину доложили о попытке прорыва ук...</td>\n      <td>1</td>\n      <td></td>\n    </tr>\n    <tr>\n      <th>344</th>\n      <td>https://www.d-kvadrat.ru/novosti/23123</td>\n      <td>​124 тонны покрышек вывезено с контейнерных пл...</td>\n      <td>С августа по ноябрь в Ижевске был организован ...</td>\n      <td>1</td>\n      <td></td>\n    </tr>\n    <tr>\n      <th>345</th>\n      <td>https://www.d-kvadrat.ru/novosti/27504</td>\n      <td>Ижевск готовится к массовому забегу \"Кросс нации\"</td>\n      <td>В Ижевске намечается мероприятие, которое приз...</td>\n      <td>1</td>\n      <td></td>\n    </tr>\n  </tbody>\n</table>\n<p>346 rows × 5 columns</p>\n</div>"
     },
     "execution_count": 99,
     "metadata": {},
     "output_type": "execute_result"
    }
   ],
   "source": [
    "df_1"
   ],
   "metadata": {
    "collapsed": false
   }
  },
  {
   "cell_type": "code",
   "execution_count": 102,
   "outputs": [
    {
     "data": {
      "text/plain": "                                       link  \\\n0    https://www.d-kvadrat.ru/novosti/26886   \n1    https://www.d-kvadrat.ru/novosti/26849   \n2    https://www.d-kvadrat.ru/novosti/23549   \n3    https://www.d-kvadrat.ru/novosti/26161   \n4    https://www.d-kvadrat.ru/novosti/26904   \n..                                      ...   \n341  https://www.d-kvadrat.ru/novosti/27965   \n342  https://www.d-kvadrat.ru/novosti/28455   \n343  https://www.d-kvadrat.ru/novosti/25854   \n344  https://www.d-kvadrat.ru/novosti/24974   \n345  https://www.d-kvadrat.ru/novosti/24146   \n\n                                                 title  \\\n0    Приемка школ и учреждений дополнительного обра...   \n1    В Ижевске стартовала акция «Собери ребенка в ш...   \n2    Прокуратуру Индустриального района Ижевска воз...   \n3                                      НОВОСТНАЯ СРЕДА   \n4    Бывший глава Ижевска получил меру пресечения: ...   \n..                                                 ...   \n341  Количество нарушений ПДД на переездах ГЖД сниз...   \n342  Студенты из Удмуртии могут выиграть по миллион...   \n343  10 мая ЧВК «Вагнер» покинет Бахмут (Артёмовск)...   \n344  Посетителей «Ижевских терм» пропустили в ТРЦ «...   \n345  Сборная Удмуртии по биатлону выиграла общекома...   \n\n                                               article  кластер emotion  \n0     июля был дан старт приемке школ к новому учеб...        1          \n1    Она направлена на помощь в подготовке к школе ...        1          \n2     декабря Генпрокурор России подписал указ о на...        1          \n3    Прекращение полномочий Олега Бекмеметьева и пе...        1          \n4    Индустриальный районный суд г. Ижевска принял ...        1          \n..                                                 ...      ...     ...  \n341  За январьсентябрь  года на переездах Горьковск...        3          \n342  Студенты учреждений среднего профессионального...        3          \n343  Частная военная компания Вагнер  мая покинет г...        3          \n344   марта у единственного входа в ТРЦ Италмас, ко...        3          \n345  В Саранске завершилось Первенство Приволжского...        3          \n\n[346 rows x 5 columns]",
      "text/html": "<div>\n<style scoped>\n    .dataframe tbody tr th:only-of-type {\n        vertical-align: middle;\n    }\n\n    .dataframe tbody tr th {\n        vertical-align: top;\n    }\n\n    .dataframe thead th {\n        text-align: right;\n    }\n</style>\n<table border=\"1\" class=\"dataframe\">\n  <thead>\n    <tr style=\"text-align: right;\">\n      <th></th>\n      <th>link</th>\n      <th>title</th>\n      <th>article</th>\n      <th>кластер</th>\n      <th>emotion</th>\n    </tr>\n  </thead>\n  <tbody>\n    <tr>\n      <th>0</th>\n      <td>https://www.d-kvadrat.ru/novosti/26886</td>\n      <td>Приемка школ и учреждений дополнительного обра...</td>\n      <td>июля был дан старт приемке школ к новому учеб...</td>\n      <td>1</td>\n      <td></td>\n    </tr>\n    <tr>\n      <th>1</th>\n      <td>https://www.d-kvadrat.ru/novosti/26849</td>\n      <td>В Ижевске стартовала акция «Собери ребенка в ш...</td>\n      <td>Она направлена на помощь в подготовке к школе ...</td>\n      <td>1</td>\n      <td></td>\n    </tr>\n    <tr>\n      <th>2</th>\n      <td>https://www.d-kvadrat.ru/novosti/23549</td>\n      <td>Прокуратуру Индустриального района Ижевска воз...</td>\n      <td>декабря Генпрокурор России подписал указ о на...</td>\n      <td>1</td>\n      <td></td>\n    </tr>\n    <tr>\n      <th>3</th>\n      <td>https://www.d-kvadrat.ru/novosti/26161</td>\n      <td>НОВОСТНАЯ СРЕДА</td>\n      <td>Прекращение полномочий Олега Бекмеметьева и пе...</td>\n      <td>1</td>\n      <td></td>\n    </tr>\n    <tr>\n      <th>4</th>\n      <td>https://www.d-kvadrat.ru/novosti/26904</td>\n      <td>Бывший глава Ижевска получил меру пресечения: ...</td>\n      <td>Индустриальный районный суд г. Ижевска принял ...</td>\n      <td>1</td>\n      <td></td>\n    </tr>\n    <tr>\n      <th>...</th>\n      <td>...</td>\n      <td>...</td>\n      <td>...</td>\n      <td>...</td>\n      <td>...</td>\n    </tr>\n    <tr>\n      <th>341</th>\n      <td>https://www.d-kvadrat.ru/novosti/27965</td>\n      <td>Количество нарушений ПДД на переездах ГЖД сниз...</td>\n      <td>За январьсентябрь  года на переездах Горьковск...</td>\n      <td>3</td>\n      <td></td>\n    </tr>\n    <tr>\n      <th>342</th>\n      <td>https://www.d-kvadrat.ru/novosti/28455</td>\n      <td>Студенты из Удмуртии могут выиграть по миллион...</td>\n      <td>Студенты учреждений среднего профессионального...</td>\n      <td>3</td>\n      <td></td>\n    </tr>\n    <tr>\n      <th>343</th>\n      <td>https://www.d-kvadrat.ru/novosti/25854</td>\n      <td>10 мая ЧВК «Вагнер» покинет Бахмут (Артёмовск)...</td>\n      <td>Частная военная компания Вагнер  мая покинет г...</td>\n      <td>3</td>\n      <td></td>\n    </tr>\n    <tr>\n      <th>344</th>\n      <td>https://www.d-kvadrat.ru/novosti/24974</td>\n      <td>Посетителей «Ижевских терм» пропустили в ТРЦ «...</td>\n      <td>марта у единственного входа в ТРЦ Италмас, ко...</td>\n      <td>3</td>\n      <td></td>\n    </tr>\n    <tr>\n      <th>345</th>\n      <td>https://www.d-kvadrat.ru/novosti/24146</td>\n      <td>Сборная Удмуртии по биатлону выиграла общекома...</td>\n      <td>В Саранске завершилось Первенство Приволжского...</td>\n      <td>3</td>\n      <td></td>\n    </tr>\n  </tbody>\n</table>\n<p>346 rows × 5 columns</p>\n</div>"
     },
     "execution_count": 102,
     "metadata": {},
     "output_type": "execute_result"
    }
   ],
   "source": [
    "df_2"
   ],
   "metadata": {
    "collapsed": false
   }
  },
  {
   "cell_type": "code",
   "execution_count": 83,
   "outputs": [
    {
     "name": "stdout",
     "output_type": "stream",
     "text": [
      "emotion\n",
      "    346\n",
      "Name: count, dtype: int64\n",
      "   \n",
      "emotion\n",
      "    346\n",
      "Name: count, dtype: int64\n",
      "   \n",
      "emotion\n",
      "    348\n",
      "Name: count, dtype: int64\n"
     ]
    }
   ],
   "source": [
    "print(df_1['emotion'].value_counts())\n",
    "print(\"   \")\n",
    "print(df_2['emotion'].value_counts())\n",
    "print(\"   \")\n",
    "print(df_3['emotion'].value_counts())\n",
    "\n"
   ],
   "metadata": {
    "collapsed": false
   }
  },
  {
   "cell_type": "code",
   "execution_count": 82,
   "outputs": [
    {
     "name": "stderr",
     "output_type": "stream",
     "text": [
      "/var/folders/rn/rmhpxg1178d0qhdyy8l2xg200000gp/T/ipykernel_6259/491618557.py:1: SettingWithCopyWarning: \n",
      "A value is trying to be set on a copy of a slice from a DataFrame.\n",
      "Try using .loc[row_indexer,col_indexer] = value instead\n",
      "\n",
      "See the caveats in the documentation: https://pandas.pydata.org/pandas-docs/stable/user_guide/indexing.html#returning-a-view-versus-a-copy\n",
      "  df_1['emotion'] = ''\n",
      "/var/folders/rn/rmhpxg1178d0qhdyy8l2xg200000gp/T/ipykernel_6259/491618557.py:2: SettingWithCopyWarning: \n",
      "A value is trying to be set on a copy of a slice from a DataFrame.\n",
      "Try using .loc[row_indexer,col_indexer] = value instead\n",
      "\n",
      "See the caveats in the documentation: https://pandas.pydata.org/pandas-docs/stable/user_guide/indexing.html#returning-a-view-versus-a-copy\n",
      "  df_2['emotion'] = ''\n",
      "/var/folders/rn/rmhpxg1178d0qhdyy8l2xg200000gp/T/ipykernel_6259/491618557.py:3: SettingWithCopyWarning: \n",
      "A value is trying to be set on a copy of a slice from a DataFrame.\n",
      "Try using .loc[row_indexer,col_indexer] = value instead\n",
      "\n",
      "See the caveats in the documentation: https://pandas.pydata.org/pandas-docs/stable/user_guide/indexing.html#returning-a-view-versus-a-copy\n",
      "  df_3['emotion'] = ''\n"
     ]
    }
   ],
   "source": [
    "df_1['emotion'] = ''\n",
    "df_2['emotion'] = ''\n",
    "df_3['emotion'] = ''"
   ],
   "metadata": {
    "collapsed": false
   }
  },
  {
   "cell_type": "code",
   "execution_count": null,
   "outputs": [],
   "source": [
    "# 233 = positive\n",
    "# 180 = negative\n",
    "# 126 = neutral"
   ],
   "metadata": {
    "collapsed": false
   }
  },
  {
   "cell_type": "code",
   "execution_count": 122,
   "outputs": [],
   "source": [
    "df_1 = pd.read_csv(\"df_1_art.csv\")\n",
    "df_2 = pd.read_csv(\"df_2_art.csv\")\n",
    "df_3 = pd.read_csv(\"df_3_art.csv\")"
   ],
   "metadata": {
    "collapsed": false
   }
  },
  {
   "cell_type": "code",
   "execution_count": 135,
   "outputs": [],
   "source": [
    "all_df = pd.concat([df_1, df_2, df_3])\n",
    "# all_df.to_csv(\"articles_preprocessed.csv\", index=False)"
   ],
   "metadata": {
    "collapsed": false
   }
  },
  {
   "cell_type": "code",
   "execution_count": 2,
   "outputs": [],
   "source": [
    "import pandas as pd\n",
    "# all_df = pd.read_csv(\"articles_preprocessed.csv\")"
   ],
   "metadata": {
    "collapsed": false
   }
  },
  {
   "cell_type": "code",
   "execution_count": 136,
   "outputs": [
    {
     "data": {
      "text/plain": "emotion\nПозитивная                                                             491\nОтрицательная                                                          276\nНейтральная                                                            245\nНегативная                                                              14\n                                                                         8\nПоложительная                                                            1\nNegativnaya                                                              1\nИсходя из данного текста, эмоция может быть оценена как Позитивная.      1\nПозитивная.                                                              1\nНейтральная.                                                             1\nОжидаемо, эмоция в данном тексте - нейтральная.                          1\nName: count, dtype: int64"
     },
     "execution_count": 136,
     "metadata": {},
     "output_type": "execute_result"
    }
   ],
   "source": [
    "all_df['emotion'].value_counts()"
   ],
   "metadata": {
    "collapsed": false
   }
  },
  {
   "cell_type": "code",
   "execution_count": 110,
   "outputs": [],
   "source": [
    "prompt = \"Тебе дан текст с сайта новостей. Нужно определить и выделить эмоцию у данного текст: Позитивная, Нейтральная, Негативная.\" \\\n",
    "         \"\\nТекст: Сотрудники УдмФИЦ УрО РАН принимают участие в III Конгрессе молодых ученых\" \\\n",
    "         \"Эмоция: Нейтральная\" \\\n",
    "          f\"\\nТекст: {df_3['article'][290]}\" \\\n",
    "         \"\\nЭмоция: \"\n",
    "df_3.loc[290, 'emotion'] = str(chat_gpt(prompt, \"gpt-3.5-turbo\"))\n"
   ],
   "metadata": {
    "collapsed": false
   }
  },
  {
   "cell_type": "code",
   "execution_count": 133,
   "outputs": [
    {
     "data": {
      "text/plain": "                                       link  \\\n0    https://www.d-kvadrat.ru/novosti/23576   \n1    https://www.d-kvadrat.ru/novosti/25171   \n2    https://www.d-kvadrat.ru/novosti/24818   \n3    https://www.d-kvadrat.ru/novosti/25782   \n4    https://www.d-kvadrat.ru/novosti/25908   \n..                                      ...   \n343  https://www.d-kvadrat.ru/novosti/26396   \n344  https://www.d-kvadrat.ru/novosti/25074   \n345  https://www.d-kvadrat.ru/novosti/27527   \n346  https://www.d-kvadrat.ru/novosti/27767   \n347  https://www.d-kvadrat.ru/novosti/25353   \n\n                                                 title  \\\n0    Работу пансионата для престарелых «Теплый дом»...   \n1                      День памяти Героя: ЮРИЙ ГАГАРИН   \n2      21 кражу из магазина совершили два жителя Можги   \n3                   Все 11 побратимов городов Удмуртии   \n4                                         ИТОГИ НЕДЕЛИ   \n..                                                 ...   \n343  Пара доллар-рубль  перешла к консолидации в уз...   \n344           Индекс МосБиржи продолжил уверенно расти   \n345  Потенциал для восстановления котировок ОФЗ сох...   \n346  Российский рынок в пятницу продолжил восходящу...   \n347  Индекс МосБиржи в ходе торгов в понедельник об...   \n\n                                               article  кластер        emotion  \n0    Суд приостановил работу пансионата для престар...        3  Отрицательная  \n1    Ровно  лет назад,  марта  года, в учебнотренир...        3  Отрицательная  \n2    Житель Можги набирал товары в одном из можгинс...        3  Отрицательная  \n3    В последнее воскресенье апреля отмечается Всем...        3   Нейтральная.  \n4    Итоги празднования в Ижевске  мая и новости по...        3     Позитивная  \n..                                                 ...      ...            ...  \n343  Пара долларрубль обновив в рамках недели макси...        4    Нейтральная  \n344  Индекс МосБиржи , продолжил уверенно расти, пр...        4    Нейтральная  \n345  Потенциал для восстановления котировок ОФЗ сох...        4    Нейтральная  \n346  Российский рынок в пятницу продолжил восходящу...        4                 \n347  Индекс МосБиржи  в ходе торгов в понедельник о...        4                 \n\n[348 rows x 5 columns]",
      "text/html": "<div>\n<style scoped>\n    .dataframe tbody tr th:only-of-type {\n        vertical-align: middle;\n    }\n\n    .dataframe tbody tr th {\n        vertical-align: top;\n    }\n\n    .dataframe thead th {\n        text-align: right;\n    }\n</style>\n<table border=\"1\" class=\"dataframe\">\n  <thead>\n    <tr style=\"text-align: right;\">\n      <th></th>\n      <th>link</th>\n      <th>title</th>\n      <th>article</th>\n      <th>кластер</th>\n      <th>emotion</th>\n    </tr>\n  </thead>\n  <tbody>\n    <tr>\n      <th>0</th>\n      <td>https://www.d-kvadrat.ru/novosti/23576</td>\n      <td>Работу пансионата для престарелых «Теплый дом»...</td>\n      <td>Суд приостановил работу пансионата для престар...</td>\n      <td>3</td>\n      <td>Отрицательная</td>\n    </tr>\n    <tr>\n      <th>1</th>\n      <td>https://www.d-kvadrat.ru/novosti/25171</td>\n      <td>День памяти Героя: ЮРИЙ ГАГАРИН</td>\n      <td>Ровно  лет назад,  марта  года, в учебнотренир...</td>\n      <td>3</td>\n      <td>Отрицательная</td>\n    </tr>\n    <tr>\n      <th>2</th>\n      <td>https://www.d-kvadrat.ru/novosti/24818</td>\n      <td>21 кражу из магазина совершили два жителя Можги</td>\n      <td>Житель Можги набирал товары в одном из можгинс...</td>\n      <td>3</td>\n      <td>Отрицательная</td>\n    </tr>\n    <tr>\n      <th>3</th>\n      <td>https://www.d-kvadrat.ru/novosti/25782</td>\n      <td>Все 11 побратимов городов Удмуртии</td>\n      <td>В последнее воскресенье апреля отмечается Всем...</td>\n      <td>3</td>\n      <td>Нейтральная.</td>\n    </tr>\n    <tr>\n      <th>4</th>\n      <td>https://www.d-kvadrat.ru/novosti/25908</td>\n      <td>ИТОГИ НЕДЕЛИ</td>\n      <td>Итоги празднования в Ижевске  мая и новости по...</td>\n      <td>3</td>\n      <td>Позитивная</td>\n    </tr>\n    <tr>\n      <th>...</th>\n      <td>...</td>\n      <td>...</td>\n      <td>...</td>\n      <td>...</td>\n      <td>...</td>\n    </tr>\n    <tr>\n      <th>343</th>\n      <td>https://www.d-kvadrat.ru/novosti/26396</td>\n      <td>Пара доллар-рубль  перешла к консолидации в уз...</td>\n      <td>Пара долларрубль обновив в рамках недели макси...</td>\n      <td>4</td>\n      <td>Нейтральная</td>\n    </tr>\n    <tr>\n      <th>344</th>\n      <td>https://www.d-kvadrat.ru/novosti/25074</td>\n      <td>Индекс МосБиржи продолжил уверенно расти</td>\n      <td>Индекс МосБиржи , продолжил уверенно расти, пр...</td>\n      <td>4</td>\n      <td>Нейтральная</td>\n    </tr>\n    <tr>\n      <th>345</th>\n      <td>https://www.d-kvadrat.ru/novosti/27527</td>\n      <td>Потенциал для восстановления котировок ОФЗ сох...</td>\n      <td>Потенциал для восстановления котировок ОФЗ сох...</td>\n      <td>4</td>\n      <td>Нейтральная</td>\n    </tr>\n    <tr>\n      <th>346</th>\n      <td>https://www.d-kvadrat.ru/novosti/27767</td>\n      <td>Российский рынок в пятницу продолжил восходящу...</td>\n      <td>Российский рынок в пятницу продолжил восходящу...</td>\n      <td>4</td>\n      <td></td>\n    </tr>\n    <tr>\n      <th>347</th>\n      <td>https://www.d-kvadrat.ru/novosti/25353</td>\n      <td>Индекс МосБиржи в ходе торгов в понедельник об...</td>\n      <td>Индекс МосБиржи  в ходе торгов в понедельник о...</td>\n      <td>4</td>\n      <td></td>\n    </tr>\n  </tbody>\n</table>\n<p>348 rows × 5 columns</p>\n</div>"
     },
     "execution_count": 133,
     "metadata": {},
     "output_type": "execute_result"
    }
   ],
   "source": [
    "df_3"
   ],
   "metadata": {
    "collapsed": false
   }
  },
  {
   "cell_type": "code",
   "execution_count": 95,
   "outputs": [
    {
     "data": {
      "text/plain": "emotion\n    348\nName: count, dtype: int64"
     },
     "execution_count": 95,
     "metadata": {},
     "output_type": "execute_result"
    }
   ],
   "source": [
    "df_3['emotion'].value_counts()"
   ],
   "metadata": {
    "collapsed": false
   }
  },
  {
   "cell_type": "code",
   "execution_count": 115,
   "outputs": [],
   "source": [
    "df_3.to_csv(\"df_3_art.csv\", index=False)"
   ],
   "metadata": {
    "collapsed": false
   }
  },
  {
   "cell_type": "code",
   "execution_count": 103,
   "outputs": [
    {
     "name": "stderr",
     "output_type": "stream",
     "text": [
      "100%|██████████| 346/346 [18:24<00:00,  3.19s/it]  \n"
     ]
    }
   ],
   "source": [
    "import time\n",
    "from tqdm import tqdm\n",
    "\n",
    "for i in tqdm(range(len(df_1))):\n",
    "    try:\n",
    "        prompt = \"Тебе дан текст с сайта новостей. Нужно определить и выделить эмоцию у данного текст: Позитивная, Нейтральная, Отрицательная.\" \\\n",
    "         \"\\nТекст: Сотрудники УдмФИЦ УрО РАН принимают участие в III Конгрессе молодых ученых\" \\\n",
    "         \"Эмоция: Нейтральная\" \\\n",
    "          f\"\\nТекст: {df_1['article'][i]}\" \\\n",
    "         \"\\nЭмоция: \"\n",
    "        prompt_2 = \"Тебе дан текст с сайта новостей. Нужно определить и выделить эмоцию у данного текст: Позитивная, Нейтральная, Отрицательная.\" \\\n",
    "         \"\\nТекст: Сотрудники УдмФИЦ УрО РАН принимают участие в III Конгрессе молодых ученых\" \\\n",
    "         \"Эмоция: Нейтральная\" \\\n",
    "          f\"\\nТекст: {df_2['article'][i]}\" \\\n",
    "         \"\\nЭмоция: \"\n",
    "        prompt_3 = \"Тебе дан текст с сайта новостей. Нужно определить и выделить эмоцию у данного текст: Позитивная, Нейтральная, Отрицательная.\" \\\n",
    "         \"\\nТекст: Сотрудники УдмФИЦ УрО РАН принимают участие в III Конгрессе молодых ученых\" \\\n",
    "         \"Эмоция: Нейтральная\" \\\n",
    "          f\"\\nТекст: {df_3['article'][i]}\" \\\n",
    "         \"\\nЭмоция: \"\n",
    "        df_1.loc[i, 'emotion'] = str(chat_gpt(prompt, \"gpt-3.5-turbo\"))\n",
    "        time.sleep(0.1)\n",
    "        df_2.loc[i, 'emotion'] = str(chat_gpt(prompt_2, \"gpt-3.5-turbo\"))\n",
    "        time.sleep(0.1)\n",
    "        df_3.loc[i, 'emotion'] = str(chat_gpt(prompt_3, \"gpt-3.5-turbo\"))\n",
    "    except:\n",
    "        pass\n"
   ],
   "metadata": {
    "collapsed": false
   }
  },
  {
   "cell_type": "code",
   "execution_count": 197,
   "outputs": [
    {
     "data": {
      "text/plain": "                                        link  \\\n0     https://www.d-kvadrat.ru/novosti/24796   \n1     https://www.d-kvadrat.ru/novosti/26425   \n2     https://www.d-kvadrat.ru/novosti/28679   \n3     https://www.d-kvadrat.ru/novosti/27700   \n4     https://www.d-kvadrat.ru/novosti/23134   \n...                                      ...   \n1035  https://www.d-kvadrat.ru/novosti/26396   \n1036  https://www.d-kvadrat.ru/novosti/25074   \n1037  https://www.d-kvadrat.ru/novosti/27527   \n1038  https://www.d-kvadrat.ru/novosti/27767   \n1039  https://www.d-kvadrat.ru/novosti/25353   \n\n                                                  title  \\\n0     В Удмуртии простились с Константином Кутяновым...   \n1     Спасатели оперативно освободили закрытого в ма...   \n2     Дети участников СВО и из «Движения первых» пос...   \n3     В Удмуртии начнут отмечать День мировой юстици...   \n4     Сегодня на сессии Госсовета Удмуртии депутаты ...   \n...                                                 ...   \n1035  Пара доллар-рубль  перешла к консолидации в уз...   \n1036           Индекс МосБиржи продолжил уверенно расти   \n1037  Потенциал для восстановления котировок ОФЗ сох...   \n1038  Российский рынок в пятницу продолжил восходящу...   \n1039  Индекс МосБиржи в ходе торгов в понедельник об...   \n\n                                                article  кластер      emotion  \n0      марта в Удмуртии простились с Константином Ку...        0   Негативная  \n1     Вчера,  июня, спасатели Удмуртии среагировали ...        0   Позитивная  \n2     На выставке ребятам особенно запомнился павиль...        0   Позитивная  \n3     Такое решение было принято  сентября в ходе се...        0   Позитивная  \n4     На прошедшей сегодня,  ноября, сессии Государс...        0   Позитивная  \n...                                                 ...      ...          ...  \n1035  Пара долларрубль обновив в рамках недели макси...        4  Нейтральная  \n1036  Индекс МосБиржи , продолжил уверенно расти, пр...        4  Нейтральная  \n1037  Потенциал для восстановления котировок ОФЗ сох...        4  Нейтральная  \n1038  Российский рынок в пятницу продолжил восходящу...        4   Позитивная  \n1039  Индекс МосБиржи  в ходе торгов в понедельник о...        4   Позитивная  \n\n[1040 rows x 5 columns]",
      "text/html": "<div>\n<style scoped>\n    .dataframe tbody tr th:only-of-type {\n        vertical-align: middle;\n    }\n\n    .dataframe tbody tr th {\n        vertical-align: top;\n    }\n\n    .dataframe thead th {\n        text-align: right;\n    }\n</style>\n<table border=\"1\" class=\"dataframe\">\n  <thead>\n    <tr style=\"text-align: right;\">\n      <th></th>\n      <th>link</th>\n      <th>title</th>\n      <th>article</th>\n      <th>кластер</th>\n      <th>emotion</th>\n    </tr>\n  </thead>\n  <tbody>\n    <tr>\n      <th>0</th>\n      <td>https://www.d-kvadrat.ru/novosti/24796</td>\n      <td>В Удмуртии простились с Константином Кутяновым...</td>\n      <td>марта в Удмуртии простились с Константином Ку...</td>\n      <td>0</td>\n      <td>Негативная</td>\n    </tr>\n    <tr>\n      <th>1</th>\n      <td>https://www.d-kvadrat.ru/novosti/26425</td>\n      <td>Спасатели оперативно освободили закрытого в ма...</td>\n      <td>Вчера,  июня, спасатели Удмуртии среагировали ...</td>\n      <td>0</td>\n      <td>Позитивная</td>\n    </tr>\n    <tr>\n      <th>2</th>\n      <td>https://www.d-kvadrat.ru/novosti/28679</td>\n      <td>Дети участников СВО и из «Движения первых» пос...</td>\n      <td>На выставке ребятам особенно запомнился павиль...</td>\n      <td>0</td>\n      <td>Позитивная</td>\n    </tr>\n    <tr>\n      <th>3</th>\n      <td>https://www.d-kvadrat.ru/novosti/27700</td>\n      <td>В Удмуртии начнут отмечать День мировой юстици...</td>\n      <td>Такое решение было принято  сентября в ходе се...</td>\n      <td>0</td>\n      <td>Позитивная</td>\n    </tr>\n    <tr>\n      <th>4</th>\n      <td>https://www.d-kvadrat.ru/novosti/23134</td>\n      <td>Сегодня на сессии Госсовета Удмуртии депутаты ...</td>\n      <td>На прошедшей сегодня,  ноября, сессии Государс...</td>\n      <td>0</td>\n      <td>Позитивная</td>\n    </tr>\n    <tr>\n      <th>...</th>\n      <td>...</td>\n      <td>...</td>\n      <td>...</td>\n      <td>...</td>\n      <td>...</td>\n    </tr>\n    <tr>\n      <th>1035</th>\n      <td>https://www.d-kvadrat.ru/novosti/26396</td>\n      <td>Пара доллар-рубль  перешла к консолидации в уз...</td>\n      <td>Пара долларрубль обновив в рамках недели макси...</td>\n      <td>4</td>\n      <td>Нейтральная</td>\n    </tr>\n    <tr>\n      <th>1036</th>\n      <td>https://www.d-kvadrat.ru/novosti/25074</td>\n      <td>Индекс МосБиржи продолжил уверенно расти</td>\n      <td>Индекс МосБиржи , продолжил уверенно расти, пр...</td>\n      <td>4</td>\n      <td>Нейтральная</td>\n    </tr>\n    <tr>\n      <th>1037</th>\n      <td>https://www.d-kvadrat.ru/novosti/27527</td>\n      <td>Потенциал для восстановления котировок ОФЗ сох...</td>\n      <td>Потенциал для восстановления котировок ОФЗ сох...</td>\n      <td>4</td>\n      <td>Нейтральная</td>\n    </tr>\n    <tr>\n      <th>1038</th>\n      <td>https://www.d-kvadrat.ru/novosti/27767</td>\n      <td>Российский рынок в пятницу продолжил восходящу...</td>\n      <td>Российский рынок в пятницу продолжил восходящу...</td>\n      <td>4</td>\n      <td>Позитивная</td>\n    </tr>\n    <tr>\n      <th>1039</th>\n      <td>https://www.d-kvadrat.ru/novosti/25353</td>\n      <td>Индекс МосБиржи в ходе торгов в понедельник об...</td>\n      <td>Индекс МосБиржи  в ходе торгов в понедельник о...</td>\n      <td>4</td>\n      <td>Позитивная</td>\n    </tr>\n  </tbody>\n</table>\n<p>1040 rows × 5 columns</p>\n</div>"
     },
     "execution_count": 197,
     "metadata": {},
     "output_type": "execute_result"
    }
   ],
   "source": [
    "# Замени все Отрицательная на Негативная\n",
    "\n",
    "all_df"
   ],
   "metadata": {
    "collapsed": false
   }
  },
  {
   "cell_type": "code",
   "execution_count": 185,
   "outputs": [],
   "source": [
    "prompt = \"Тебе дан текст с сайта новостей. Нужно определить и выделить эмоцию у данного текст: Позитивная, Нейтральная, Негативная.\" \\\n",
    "         \"\\nТекст: Сотрудники УдмФИЦ УрО РАН принимают участие в III Конгрессе молодых ученых\" \\\n",
    "         \"Эмоция: Нейтральная\" \\\n",
    "          f\"\\nТекст: {all_df['article'][573]}\" \\\n",
    "         \"\\nЭмоция: \"\n",
    "all_df.loc[573, 'emotion'] = str(chat_gpt(prompt, \"gpt-3.5-turbo\"))\n"
   ],
   "metadata": {
    "collapsed": false
   }
  },
  {
   "cell_type": "code",
   "execution_count": 196,
   "outputs": [
    {
     "data": {
      "text/plain": "emotion\nПозитивная     497\nНегативная     293\nНейтральная    250\nName: count, dtype: int64"
     },
     "execution_count": 196,
     "metadata": {},
     "output_type": "execute_result"
    }
   ],
   "source": [
    "# уменшьи в три раза\n",
    "all_df['emotion'].value_counts()"
   ],
   "metadata": {
    "collapsed": false
   }
  },
  {
   "cell_type": "code",
   "execution_count": 198,
   "outputs": [],
   "source": [
    "all_df.to_csv(\"sampling_arts_prep.csv\", index=False)"
   ],
   "metadata": {
    "collapsed": false
   }
  }
 ],
 "metadata": {
  "kernelspec": {
   "display_name": "Python 3",
   "language": "python",
   "name": "python3"
  },
  "language_info": {
   "codemirror_mode": {
    "name": "ipython",
    "version": 2
   },
   "file_extension": ".py",
   "mimetype": "text/x-python",
   "name": "python",
   "nbconvert_exporter": "python",
   "pygments_lexer": "ipython2",
   "version": "2.7.6"
  }
 },
 "nbformat": 4,
 "nbformat_minor": 0
}
