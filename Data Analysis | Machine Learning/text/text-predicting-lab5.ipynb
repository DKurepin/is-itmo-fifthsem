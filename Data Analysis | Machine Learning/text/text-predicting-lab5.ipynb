{
 "cells": [
  {
   "cell_type": "code",
   "execution_count": 1,
   "metadata": {
    "collapsed": true
   },
   "outputs": [],
   "source": [
    "import matplotlib.pyplot as plt\n",
    "import pandas as pd\n",
    "\n",
    "articles_df = pd.read_csv('articles_preprocessed_puncts.csv')\n",
    "articles_df['article'] = articles_df['article_punct']\n",
    "new_samples = pd.read_csv('sampling_arts_prep.csv')"
   ]
  },
  {
   "cell_type": "code",
   "execution_count": 2,
   "outputs": [
    {
     "data": {
      "text/plain": "                                        link  \\\n0     https://www.d-kvadrat.ru/novosti/26371   \n1     https://www.d-kvadrat.ru/novosti/25948   \n2     https://www.d-kvadrat.ru/novosti/26605   \n3     https://www.d-kvadrat.ru/novosti/27622   \n4     https://www.d-kvadrat.ru/novosti/24150   \n...                                      ...   \n1035  https://www.d-kvadrat.ru/novosti/27598   \n1036  https://www.d-kvadrat.ru/novosti/26927   \n1037  https://www.d-kvadrat.ru/novosti/23399   \n1038  https://www.d-kvadrat.ru/novosti/24557   \n1039  https://www.d-kvadrat.ru/novosti/27599   \n\n                                                  title  \\\n0     В Удмуртии простятся с погибшим под Артемовско...   \n1           В зоне СВО погиб наш земляк Андрей Богданов   \n2     Якшур-Бодьинский район проводил защитников Оте...   \n3     Турнир памяти героя: Ижевск вспоминает гвардии...   \n4     В Удмуртии простились с рядовым Альбертом Ямал...   \n...                                                 ...   \n1035    Индекс МосБиржи завершил торги в пятницу ростом   \n1036  Индекс МосБиржи в четверг продолжил попытки до...   \n1037              Краткосрочные ОФЗ продолжают дорожать   \n1038  Индекс МосБиржи завершил вечернюю сессию сдерж...   \n1039  Повышение ставки полностью не учтено в доходно...   \n\n                                                article  кластер      emotion  \\\n0      июня  года состоится прощание с Денисом Никол...        0   Негативная   \n1     В зоне боевых действий в Луганской Народной Ре...        0   Негативная   \n2     Вчера,  июля, ЯкшурБодьинский район попрощался...        0   Негативная   \n3     В честь памяти участника специальной военной о...        0   Позитивная   \n4     В Завьяловском районе Удмуртии  января прошли ...        0   Негативная   \n...                                                 ...      ...          ...   \n1035  Индекс МосБиржи завершил торги в пятницу росто...        4   Позитивная   \n1036  Индекс МосБиржи в четверг продолжил попытки до...        4   Позитивная   \n1037  Краткосрочные облигаций федерального займа ОФЗ...        4   Позитивная   \n1038  Индекс МосБиржи , в ходе высоковолатильных тор...        4  Нейтральная   \n1039  Повышение ставки полностью не учтено в доходно...        4  Нейтральная   \n\n                                          article_punct  \n0      июня  года состоится прощание с Денисом Никол...  \n1     В зоне боевых действий в Луганской Народной Ре...  \n2     Вчера,  июля, ЯкшурБодьинский район попрощался...  \n3     В честь памяти участника специальной военной о...  \n4     В Завьяловском районе Удмуртии  января прошли ...  \n...                                                 ...  \n1035  Индекс МосБиржи завершил торги в пятницу росто...  \n1036  Индекс МосБиржи в четверг продолжил попытки до...  \n1037  Краткосрочные облигаций федерального займа ОФЗ...  \n1038  Индекс МосБиржи , в ходе высоковолатильных тор...  \n1039  Повышение ставки полностью не учтено в доходно...  \n\n[1040 rows x 6 columns]",
      "text/html": "<div>\n<style scoped>\n    .dataframe tbody tr th:only-of-type {\n        vertical-align: middle;\n    }\n\n    .dataframe tbody tr th {\n        vertical-align: top;\n    }\n\n    .dataframe thead th {\n        text-align: right;\n    }\n</style>\n<table border=\"1\" class=\"dataframe\">\n  <thead>\n    <tr style=\"text-align: right;\">\n      <th></th>\n      <th>link</th>\n      <th>title</th>\n      <th>article</th>\n      <th>кластер</th>\n      <th>emotion</th>\n      <th>article_punct</th>\n    </tr>\n  </thead>\n  <tbody>\n    <tr>\n      <th>0</th>\n      <td>https://www.d-kvadrat.ru/novosti/26371</td>\n      <td>В Удмуртии простятся с погибшим под Артемовско...</td>\n      <td>июня  года состоится прощание с Денисом Никол...</td>\n      <td>0</td>\n      <td>Негативная</td>\n      <td>июня  года состоится прощание с Денисом Никол...</td>\n    </tr>\n    <tr>\n      <th>1</th>\n      <td>https://www.d-kvadrat.ru/novosti/25948</td>\n      <td>В зоне СВО погиб наш земляк Андрей Богданов</td>\n      <td>В зоне боевых действий в Луганской Народной Ре...</td>\n      <td>0</td>\n      <td>Негативная</td>\n      <td>В зоне боевых действий в Луганской Народной Ре...</td>\n    </tr>\n    <tr>\n      <th>2</th>\n      <td>https://www.d-kvadrat.ru/novosti/26605</td>\n      <td>Якшур-Бодьинский район проводил защитников Оте...</td>\n      <td>Вчера,  июля, ЯкшурБодьинский район попрощался...</td>\n      <td>0</td>\n      <td>Негативная</td>\n      <td>Вчера,  июля, ЯкшурБодьинский район попрощался...</td>\n    </tr>\n    <tr>\n      <th>3</th>\n      <td>https://www.d-kvadrat.ru/novosti/27622</td>\n      <td>Турнир памяти героя: Ижевск вспоминает гвардии...</td>\n      <td>В честь памяти участника специальной военной о...</td>\n      <td>0</td>\n      <td>Позитивная</td>\n      <td>В честь памяти участника специальной военной о...</td>\n    </tr>\n    <tr>\n      <th>4</th>\n      <td>https://www.d-kvadrat.ru/novosti/24150</td>\n      <td>В Удмуртии простились с рядовым Альбертом Ямал...</td>\n      <td>В Завьяловском районе Удмуртии  января прошли ...</td>\n      <td>0</td>\n      <td>Негативная</td>\n      <td>В Завьяловском районе Удмуртии  января прошли ...</td>\n    </tr>\n    <tr>\n      <th>...</th>\n      <td>...</td>\n      <td>...</td>\n      <td>...</td>\n      <td>...</td>\n      <td>...</td>\n      <td>...</td>\n    </tr>\n    <tr>\n      <th>1035</th>\n      <td>https://www.d-kvadrat.ru/novosti/27598</td>\n      <td>Индекс МосБиржи завершил торги в пятницу ростом</td>\n      <td>Индекс МосБиржи завершил торги в пятницу росто...</td>\n      <td>4</td>\n      <td>Позитивная</td>\n      <td>Индекс МосБиржи завершил торги в пятницу росто...</td>\n    </tr>\n    <tr>\n      <th>1036</th>\n      <td>https://www.d-kvadrat.ru/novosti/26927</td>\n      <td>Индекс МосБиржи в четверг продолжил попытки до...</td>\n      <td>Индекс МосБиржи в четверг продолжил попытки до...</td>\n      <td>4</td>\n      <td>Позитивная</td>\n      <td>Индекс МосБиржи в четверг продолжил попытки до...</td>\n    </tr>\n    <tr>\n      <th>1037</th>\n      <td>https://www.d-kvadrat.ru/novosti/23399</td>\n      <td>Краткосрочные ОФЗ продолжают дорожать</td>\n      <td>Краткосрочные облигаций федерального займа ОФЗ...</td>\n      <td>4</td>\n      <td>Позитивная</td>\n      <td>Краткосрочные облигаций федерального займа ОФЗ...</td>\n    </tr>\n    <tr>\n      <th>1038</th>\n      <td>https://www.d-kvadrat.ru/novosti/24557</td>\n      <td>Индекс МосБиржи завершил вечернюю сессию сдерж...</td>\n      <td>Индекс МосБиржи , в ходе высоковолатильных тор...</td>\n      <td>4</td>\n      <td>Нейтральная</td>\n      <td>Индекс МосБиржи , в ходе высоковолатильных тор...</td>\n    </tr>\n    <tr>\n      <th>1039</th>\n      <td>https://www.d-kvadrat.ru/novosti/27599</td>\n      <td>Повышение ставки полностью не учтено в доходно...</td>\n      <td>Повышение ставки полностью не учтено в доходно...</td>\n      <td>4</td>\n      <td>Нейтральная</td>\n      <td>Повышение ставки полностью не учтено в доходно...</td>\n    </tr>\n  </tbody>\n</table>\n<p>1040 rows × 6 columns</p>\n</div>"
     },
     "execution_count": 2,
     "metadata": {},
     "output_type": "execute_result"
    }
   ],
   "source": [
    "articles_df"
   ],
   "metadata": {
    "collapsed": false
   }
  },
  {
   "cell_type": "code",
   "execution_count": 3,
   "outputs": [
    {
     "data": {
      "text/plain": "emotion\nПозитивная     436\nНегативная     339\nНейтральная    265\nName: count, dtype: int64"
     },
     "execution_count": 3,
     "metadata": {},
     "output_type": "execute_result"
    }
   ],
   "source": [
    "articles_df['emotion'].value_counts()"
   ],
   "metadata": {
    "collapsed": false
   }
  },
  {
   "cell_type": "code",
   "execution_count": 4,
   "outputs": [
    {
     "data": {
      "text/plain": "339"
     },
     "execution_count": 4,
     "metadata": {},
     "output_type": "execute_result"
    }
   ],
   "source": [
    "articles_df['emotion'].value_counts()['Негативная']"
   ],
   "metadata": {
    "collapsed": false
   }
  },
  {
   "cell_type": "markdown",
   "source": [
    "# Сбалансируем классы, чтобы было поровну (У меня было два напаршенных датасета)"
   ],
   "metadata": {
    "collapsed": false
   }
  },
  {
   "cell_type": "code",
   "execution_count": 5,
   "outputs": [],
   "source": [
    "new_samples['emotion'].value_counts()\n",
    "new_neg = new_samples[new_samples['emotion'] == 'Негативная']\n",
    "new_neutral = new_samples[new_samples['emotion'] == 'Нейтральная']\n",
    "\n",
    "new_neg = new_neg.sample(frac=1)\n",
    "new_neutral = new_neutral.sample(frac=1)\n",
    "\n",
    "needed_neg = 436 - 339\n",
    "needed_neutral = 436 - 265\n",
    "\n",
    "new_neg = new_neg[:needed_neg]\n",
    "new_neutral = new_neutral[:needed_neutral]\n",
    "\n",
    "new_samples = pd.concat([new_neg, new_neutral])"
   ],
   "metadata": {
    "collapsed": false
   }
  },
  {
   "cell_type": "code",
   "execution_count": 6,
   "outputs": [],
   "source": [
    "new_samples['article_punct'] = new_samples['article']\n",
    "articles_df = pd.concat([articles_df, new_samples])"
   ],
   "metadata": {
    "collapsed": false
   }
  },
  {
   "cell_type": "code",
   "execution_count": 7,
   "outputs": [],
   "source": [
    "rus_alph = set(list('абвгдеёжзийклмнопрстуфхцчшщъыьэюя'))\n",
    "punctuations = set(list('!\"#$%&\\'()*+,-./:;<=>?@[\\\\]^_`{|}~«»—…“”№'))\n",
    "\n",
    "# drop_not_letters = lambda x: ''.join(list(filter(lambda y: y in rus_alph or y == ' ', x.lower())))\n",
    "drop_not_letters = lambda x: ''.join(list(filter(lambda y: y in rus_alph or y in punctuations or y == ' ', x.lower())))\n",
    "articles_df['article'] = articles_df['article'].apply(drop_not_letters)"
   ],
   "metadata": {
    "collapsed": false
   }
  },
  {
   "cell_type": "code",
   "execution_count": 8,
   "outputs": [],
   "source": [
    "# # удалим слова удмуртии и также\n",
    "# def remove_udmurtiya(text):\n",
    "#     return ' '.join([word for word in text.split(' ') if word != 'удмуртии' and word != 'ижевске' and word != 'также' and word != 'это'])\n",
    "#\n",
    "# articles_df['article'] = articles_df['article'].apply(remove_udmurtiya)"
   ],
   "metadata": {
    "collapsed": false
   }
  },
  {
   "cell_type": "code",
   "execution_count": 9,
   "outputs": [],
   "source": [
    "def switch_device_if_cuda_available(model):\n",
    "    if torch.cuda.is_available():\n",
    "        device = torch.device(\"cuda\")\n",
    "        model.to(device)\n",
    "        print(\"GPU available\")\n",
    "    else:\n",
    "        device = torch.device(\"cpu\")\n",
    "        print(\"GPU not available\")\n",
    "    return model, device"
   ],
   "metadata": {
    "collapsed": false
   }
  },
  {
   "cell_type": "code",
   "execution_count": 10,
   "outputs": [
    {
     "name": "stderr",
     "output_type": "stream",
     "text": [
      "[nltk_data] Error loading stopwords: <urlopen error [SSL:\n",
      "[nltk_data]     CERTIFICATE_VERIFY_FAILED] certificate verify failed:\n",
      "[nltk_data]     unable to get local issuer certificate (_ssl.c:992)>\n"
     ]
    }
   ],
   "source": [
    "from nltk.corpus import stopwords\n",
    "import nltk\n",
    "nltk.download('stopwords')\n",
    "\n",
    "rus_stopwords = stopwords.words('russian')\n",
    "\n",
    "remove_stopwords = lambda x: ' '.join(list(filter(lambda y: y not in rus_stopwords, x.split(' '))))\n",
    "articles_df['article'] = articles_df['article'].apply(remove_stopwords)\n",
    "def remove_empty(text):\n",
    "    return ' '.join([word for word in text.split(' ') if word != ''])\n",
    "\n",
    "articles_df['article'] = articles_df['article'].apply(remove_empty)"
   ],
   "metadata": {
    "collapsed": false
   }
  },
  {
   "cell_type": "code",
   "execution_count": 11,
   "outputs": [
    {
     "data": {
      "text/plain": "                                        link  \\\n0     https://www.d-kvadrat.ru/novosti/26371   \n1     https://www.d-kvadrat.ru/novosti/25948   \n2     https://www.d-kvadrat.ru/novosti/26605   \n3     https://www.d-kvadrat.ru/novosti/27622   \n4     https://www.d-kvadrat.ru/novosti/24150   \n...                                      ...   \n429   https://www.d-kvadrat.ru/novosti/26935   \n791   https://www.d-kvadrat.ru/novosti/27656   \n789   https://www.d-kvadrat.ru/novosti/23117   \n1022  https://www.d-kvadrat.ru/novosti/24762   \n339   https://www.d-kvadrat.ru/novosti/26348   \n\n                                                  title  \\\n0     В Удмуртии простятся с погибшим под Артемовско...   \n1           В зоне СВО погиб наш земляк Андрей Богданов   \n2     Якшур-Бодьинский район проводил защитников Оте...   \n3     Турнир памяти героя: Ижевск вспоминает гвардии...   \n4     В Удмуртии простились с рядовым Альбертом Ямал...   \n...                                                 ...   \n429   За неделю в Ижевске сделали 30% ремонтных рабо...   \n791     Сегодня рубль постарается продолжить укрепление   \n789   Как на самом деле звали Люсьена Оливье и во ск...   \n1022            Доллар стремится к максимумам 2023 года   \n339   Маршрут автобуса №26 в Ижевске изменен для обе...   \n\n                                                article  кластер      emotion  \\\n0     июня года состоится прощание денисом николаеви...        0   Негативная   \n1     зоне боевых действий луганской народной респуб...        0   Негативная   \n2     вчера, июля, якшурбодьинский район попрощался ...        0   Негативная   \n3     честь памяти участника специальной военной опе...        0   Позитивная   \n4     завьяловском районе удмуртии января прошли пох...        0   Негативная   \n...                                                 ...      ...          ...   \n429   ремонт проводится улице кирова песочной удмурт...        1  Нейтральная   \n791   сегодня рубль постарается продолжить укреплени...        4  Нейтральная   \n789   советских т.е. колбасных версий, существует ме...        4  Нейтральная   \n1022  пятницу пара долларрубль продолжила плавный ро...        4  Нейтральная   \n339   начиная сегодняшнего дня, июня, автобусы маршр...        1  Нейтральная   \n\n                                          article_punct  \n0      июня  года состоится прощание с Денисом Никол...  \n1     В зоне боевых действий в Луганской Народной Ре...  \n2     Вчера,  июля, ЯкшурБодьинский район попрощался...  \n3     В честь памяти участника специальной военной о...  \n4     В Завьяловском районе Удмуртии  января прошли ...  \n...                                                 ...  \n429   Ремонт проводится на улице Кирова от Песочной ...  \n791   Сегодня рубль постарается продолжить укреплени...  \n789   Даже без советских т.е. колбасных версий, суще...  \n1022  В пятницу пара долларрубль продолжила плавный ...  \n339   Начиная с сегодняшнего дня,  июня, автобусы ма...  \n\n[1308 rows x 6 columns]",
      "text/html": "<div>\n<style scoped>\n    .dataframe tbody tr th:only-of-type {\n        vertical-align: middle;\n    }\n\n    .dataframe tbody tr th {\n        vertical-align: top;\n    }\n\n    .dataframe thead th {\n        text-align: right;\n    }\n</style>\n<table border=\"1\" class=\"dataframe\">\n  <thead>\n    <tr style=\"text-align: right;\">\n      <th></th>\n      <th>link</th>\n      <th>title</th>\n      <th>article</th>\n      <th>кластер</th>\n      <th>emotion</th>\n      <th>article_punct</th>\n    </tr>\n  </thead>\n  <tbody>\n    <tr>\n      <th>0</th>\n      <td>https://www.d-kvadrat.ru/novosti/26371</td>\n      <td>В Удмуртии простятся с погибшим под Артемовско...</td>\n      <td>июня года состоится прощание денисом николаеви...</td>\n      <td>0</td>\n      <td>Негативная</td>\n      <td>июня  года состоится прощание с Денисом Никол...</td>\n    </tr>\n    <tr>\n      <th>1</th>\n      <td>https://www.d-kvadrat.ru/novosti/25948</td>\n      <td>В зоне СВО погиб наш земляк Андрей Богданов</td>\n      <td>зоне боевых действий луганской народной респуб...</td>\n      <td>0</td>\n      <td>Негативная</td>\n      <td>В зоне боевых действий в Луганской Народной Ре...</td>\n    </tr>\n    <tr>\n      <th>2</th>\n      <td>https://www.d-kvadrat.ru/novosti/26605</td>\n      <td>Якшур-Бодьинский район проводил защитников Оте...</td>\n      <td>вчера, июля, якшурбодьинский район попрощался ...</td>\n      <td>0</td>\n      <td>Негативная</td>\n      <td>Вчера,  июля, ЯкшурБодьинский район попрощался...</td>\n    </tr>\n    <tr>\n      <th>3</th>\n      <td>https://www.d-kvadrat.ru/novosti/27622</td>\n      <td>Турнир памяти героя: Ижевск вспоминает гвардии...</td>\n      <td>честь памяти участника специальной военной опе...</td>\n      <td>0</td>\n      <td>Позитивная</td>\n      <td>В честь памяти участника специальной военной о...</td>\n    </tr>\n    <tr>\n      <th>4</th>\n      <td>https://www.d-kvadrat.ru/novosti/24150</td>\n      <td>В Удмуртии простились с рядовым Альбертом Ямал...</td>\n      <td>завьяловском районе удмуртии января прошли пох...</td>\n      <td>0</td>\n      <td>Негативная</td>\n      <td>В Завьяловском районе Удмуртии  января прошли ...</td>\n    </tr>\n    <tr>\n      <th>...</th>\n      <td>...</td>\n      <td>...</td>\n      <td>...</td>\n      <td>...</td>\n      <td>...</td>\n      <td>...</td>\n    </tr>\n    <tr>\n      <th>429</th>\n      <td>https://www.d-kvadrat.ru/novosti/26935</td>\n      <td>За неделю в Ижевске сделали 30% ремонтных рабо...</td>\n      <td>ремонт проводится улице кирова песочной удмурт...</td>\n      <td>1</td>\n      <td>Нейтральная</td>\n      <td>Ремонт проводится на улице Кирова от Песочной ...</td>\n    </tr>\n    <tr>\n      <th>791</th>\n      <td>https://www.d-kvadrat.ru/novosti/27656</td>\n      <td>Сегодня рубль постарается продолжить укрепление</td>\n      <td>сегодня рубль постарается продолжить укреплени...</td>\n      <td>4</td>\n      <td>Нейтральная</td>\n      <td>Сегодня рубль постарается продолжить укреплени...</td>\n    </tr>\n    <tr>\n      <th>789</th>\n      <td>https://www.d-kvadrat.ru/novosti/23117</td>\n      <td>Как на самом деле звали Люсьена Оливье и во ск...</td>\n      <td>советских т.е. колбасных версий, существует ме...</td>\n      <td>4</td>\n      <td>Нейтральная</td>\n      <td>Даже без советских т.е. колбасных версий, суще...</td>\n    </tr>\n    <tr>\n      <th>1022</th>\n      <td>https://www.d-kvadrat.ru/novosti/24762</td>\n      <td>Доллар стремится к максимумам 2023 года</td>\n      <td>пятницу пара долларрубль продолжила плавный ро...</td>\n      <td>4</td>\n      <td>Нейтральная</td>\n      <td>В пятницу пара долларрубль продолжила плавный ...</td>\n    </tr>\n    <tr>\n      <th>339</th>\n      <td>https://www.d-kvadrat.ru/novosti/26348</td>\n      <td>Маршрут автобуса №26 в Ижевске изменен для обе...</td>\n      <td>начиная сегодняшнего дня, июня, автобусы маршр...</td>\n      <td>1</td>\n      <td>Нейтральная</td>\n      <td>Начиная с сегодняшнего дня,  июня, автобусы ма...</td>\n    </tr>\n  </tbody>\n</table>\n<p>1308 rows × 6 columns</p>\n</div>"
     },
     "execution_count": 11,
     "metadata": {},
     "output_type": "execute_result"
    }
   ],
   "source": [
    "articles_df"
   ],
   "metadata": {
    "collapsed": false
   }
  },
  {
   "cell_type": "code",
   "execution_count": 12,
   "outputs": [],
   "source": [
    "# Я убираю нейтральные статьи, дальше их не использую\n",
    "articles_df = articles_df[articles_df['emotion'] != 'Нейтральная']"
   ],
   "metadata": {
    "collapsed": false
   }
  },
  {
   "cell_type": "code",
   "execution_count": 13,
   "outputs": [],
   "source": [
    "def augment_data(df, emotion, n):\n",
    "    df = df[df['emotion'] == emotion]\n",
    "    df = df.sample(frac=1)\n",
    "    df = df[:n]\n",
    "    return df"
   ],
   "metadata": {
    "collapsed": false
   }
  },
  {
   "cell_type": "code",
   "execution_count": 14,
   "outputs": [],
   "source": [
    "negative_df = augment_data(articles_df, 'Негативная', 339)\n",
    "positive_df = augment_data(articles_df, 'Позитивная', 339)"
   ],
   "metadata": {
    "collapsed": false
   }
  },
  {
   "cell_type": "code",
   "execution_count": 15,
   "outputs": [],
   "source": [
    "articles_df = pd.concat([articles_df, negative_df, positive_df])"
   ],
   "metadata": {
    "collapsed": false
   }
  },
  {
   "cell_type": "code",
   "execution_count": 16,
   "outputs": [
    {
     "data": {
      "text/plain": "                                       link  \\\n0    https://www.d-kvadrat.ru/novosti/26371   \n1    https://www.d-kvadrat.ru/novosti/25948   \n2    https://www.d-kvadrat.ru/novosti/26605   \n3    https://www.d-kvadrat.ru/novosti/27622   \n4    https://www.d-kvadrat.ru/novosti/24150   \n..                                      ...   \n63   https://www.d-kvadrat.ru/novosti/25386   \n566  https://www.d-kvadrat.ru/novosti/27187   \n806  https://www.d-kvadrat.ru/novosti/23545   \n283  https://www.d-kvadrat.ru/novosti/23628   \n597  https://www.d-kvadrat.ru/novosti/27742   \n\n                                                 title  \\\n0    В Удмуртии простятся с погибшим под Артемовско...   \n1          В зоне СВО погиб наш земляк Андрей Богданов   \n2    Якшур-Бодьинский район проводил защитников Оте...   \n3    Турнир памяти героя: Ижевск вспоминает гвардии...   \n4    В Удмуртии простились с рядовым Альбертом Ямал...   \n..                                                 ...   \n63   Доброволец из Удмуртии получил орден Мужества ...   \n566      В Ижевске откроется интерактивный музей тепла   \n806         Укрепление рубля поддерживает спрос на ОФЗ   \n283  Из Удмуртии отправили 126 коробок с подарками ...   \n597  \"Парки Ижевска\" стали трехкратными победителям...   \n\n                                               article  кластер     emotion  \\\n0    июня года состоится прощание денисом николаеви...        0  Негативная   \n1    зоне боевых действий луганской народной респуб...        0  Негативная   \n2    вчера, июля, якшурбодьинский район попрощался ...        0  Негативная   \n3    честь памяти участника специальной военной опе...        0  Позитивная   \n4    завьяловском районе удмуртии января прошли пох...        0  Негативная   \n..                                                 ...      ...         ...   \n63   участника спецоперации удмуртии позывным баги ...        0  Позитивная   \n566  работать августа. сообщает прессслужба админис...        3  Позитивная   \n806  укрепление рубля поддерживает спрос облигации ...        4  Позитивная   \n283  декабря удмуртии отправили коробок подарков во...        1  Позитивная   \n597  команда парки ижевска вновь празднует победу м...        3  Позитивная   \n\n                                         article_punct  \n0     июня  года состоится прощание с Денисом Никол...  \n1    В зоне боевых действий в Луганской Народной Ре...  \n2    Вчера,  июля, ЯкшурБодьинский район попрощался...  \n3    В честь памяти участника специальной военной о...  \n4    В Завьяловском районе Удмуртии  января прошли ...  \n..                                                 ...  \n63   Участника спецоперации из Удмуртии с позывным ...  \n566  Работать он будет с  по  августа. Об этом сооб...  \n806  Укрепление рубля поддерживает спрос на облигац...  \n283   декабря из Удмуртии отправили  коробок подарк...  \n597  Команда Парки Ижевска вновь празднует свою поб...  \n\n[1550 rows x 6 columns]",
      "text/html": "<div>\n<style scoped>\n    .dataframe tbody tr th:only-of-type {\n        vertical-align: middle;\n    }\n\n    .dataframe tbody tr th {\n        vertical-align: top;\n    }\n\n    .dataframe thead th {\n        text-align: right;\n    }\n</style>\n<table border=\"1\" class=\"dataframe\">\n  <thead>\n    <tr style=\"text-align: right;\">\n      <th></th>\n      <th>link</th>\n      <th>title</th>\n      <th>article</th>\n      <th>кластер</th>\n      <th>emotion</th>\n      <th>article_punct</th>\n    </tr>\n  </thead>\n  <tbody>\n    <tr>\n      <th>0</th>\n      <td>https://www.d-kvadrat.ru/novosti/26371</td>\n      <td>В Удмуртии простятся с погибшим под Артемовско...</td>\n      <td>июня года состоится прощание денисом николаеви...</td>\n      <td>0</td>\n      <td>Негативная</td>\n      <td>июня  года состоится прощание с Денисом Никол...</td>\n    </tr>\n    <tr>\n      <th>1</th>\n      <td>https://www.d-kvadrat.ru/novosti/25948</td>\n      <td>В зоне СВО погиб наш земляк Андрей Богданов</td>\n      <td>зоне боевых действий луганской народной респуб...</td>\n      <td>0</td>\n      <td>Негативная</td>\n      <td>В зоне боевых действий в Луганской Народной Ре...</td>\n    </tr>\n    <tr>\n      <th>2</th>\n      <td>https://www.d-kvadrat.ru/novosti/26605</td>\n      <td>Якшур-Бодьинский район проводил защитников Оте...</td>\n      <td>вчера, июля, якшурбодьинский район попрощался ...</td>\n      <td>0</td>\n      <td>Негативная</td>\n      <td>Вчера,  июля, ЯкшурБодьинский район попрощался...</td>\n    </tr>\n    <tr>\n      <th>3</th>\n      <td>https://www.d-kvadrat.ru/novosti/27622</td>\n      <td>Турнир памяти героя: Ижевск вспоминает гвардии...</td>\n      <td>честь памяти участника специальной военной опе...</td>\n      <td>0</td>\n      <td>Позитивная</td>\n      <td>В честь памяти участника специальной военной о...</td>\n    </tr>\n    <tr>\n      <th>4</th>\n      <td>https://www.d-kvadrat.ru/novosti/24150</td>\n      <td>В Удмуртии простились с рядовым Альбертом Ямал...</td>\n      <td>завьяловском районе удмуртии января прошли пох...</td>\n      <td>0</td>\n      <td>Негативная</td>\n      <td>В Завьяловском районе Удмуртии  января прошли ...</td>\n    </tr>\n    <tr>\n      <th>...</th>\n      <td>...</td>\n      <td>...</td>\n      <td>...</td>\n      <td>...</td>\n      <td>...</td>\n      <td>...</td>\n    </tr>\n    <tr>\n      <th>63</th>\n      <td>https://www.d-kvadrat.ru/novosti/25386</td>\n      <td>Доброволец из Удмуртии получил орден Мужества ...</td>\n      <td>участника спецоперации удмуртии позывным баги ...</td>\n      <td>0</td>\n      <td>Позитивная</td>\n      <td>Участника спецоперации из Удмуртии с позывным ...</td>\n    </tr>\n    <tr>\n      <th>566</th>\n      <td>https://www.d-kvadrat.ru/novosti/27187</td>\n      <td>В Ижевске откроется интерактивный музей тепла</td>\n      <td>работать августа. сообщает прессслужба админис...</td>\n      <td>3</td>\n      <td>Позитивная</td>\n      <td>Работать он будет с  по  августа. Об этом сооб...</td>\n    </tr>\n    <tr>\n      <th>806</th>\n      <td>https://www.d-kvadrat.ru/novosti/23545</td>\n      <td>Укрепление рубля поддерживает спрос на ОФЗ</td>\n      <td>укрепление рубля поддерживает спрос облигации ...</td>\n      <td>4</td>\n      <td>Позитивная</td>\n      <td>Укрепление рубля поддерживает спрос на облигац...</td>\n    </tr>\n    <tr>\n      <th>283</th>\n      <td>https://www.d-kvadrat.ru/novosti/23628</td>\n      <td>Из Удмуртии отправили 126 коробок с подарками ...</td>\n      <td>декабря удмуртии отправили коробок подарков во...</td>\n      <td>1</td>\n      <td>Позитивная</td>\n      <td>декабря из Удмуртии отправили  коробок подарк...</td>\n    </tr>\n    <tr>\n      <th>597</th>\n      <td>https://www.d-kvadrat.ru/novosti/27742</td>\n      <td>\"Парки Ижевска\" стали трехкратными победителям...</td>\n      <td>команда парки ижевска вновь празднует победу м...</td>\n      <td>3</td>\n      <td>Позитивная</td>\n      <td>Команда Парки Ижевска вновь празднует свою поб...</td>\n    </tr>\n  </tbody>\n</table>\n<p>1550 rows × 6 columns</p>\n</div>"
     },
     "execution_count": 16,
     "metadata": {},
     "output_type": "execute_result"
    }
   ],
   "source": [
    "articles_df"
   ],
   "metadata": {
    "collapsed": false
   }
  },
  {
   "cell_type": "markdown",
   "source": [
    "# Токенизация с помощью YouTokenToMe"
   ],
   "metadata": {
    "collapsed": false
   }
  },
  {
   "cell_type": "code",
   "execution_count": 17,
   "outputs": [],
   "source": [
    "import youtokentome as yttm\n",
    "from collections import Counter\n",
    "\n",
    "corpus = [word for word in articles_df['article'] for word in word.split(' ')]\n",
    "count = Counter(corpus)\n",
    "sorted_words = count.most_common()"
   ],
   "metadata": {
    "collapsed": false
   }
  },
  {
   "cell_type": "code",
   "execution_count": 18,
   "outputs": [
    {
     "name": "stderr",
     "output_type": "stream",
     "text": [
      "Training parameters\n",
      "  input: corpus.txt\n",
      "  model: bpe.model\n",
      "  vocab_size: 5000\n",
      "  n_threads: 8\n",
      "  character_coverage: 1\n",
      "  pad: 0\n",
      "  unk: 1\n",
      "  bos: 2\n",
      "  eos: 3\n",
      "\n",
      "reading file...\n",
      "learning bpe...\n",
      "number of unique characters in the training data: 49\n",
      "number of deleted characters: 0\n",
      "number of unique characters left: 49\n",
      "id: 1000=60+223               freq: 28          subword: ний.=ни+й.\n",
      "id: 2000=136+154              freq: 13          subword: ▁отве=▁от+ве\n",
      "id: 3000=67+379               freq: 9           subword: ▁оцен=▁о+цен\n",
      "id: 4000=123+23               freq: 6           subword: мая=ма+я\n",
      "model saved to: bpe.model\n"
     ]
    }
   ],
   "source": [
    "with open('corpus.txt', 'w') as f:\n",
    "    for word, freq in sorted_words:\n",
    "        f.write(word + ' ' + str(freq) + '\\n')\n",
    "\n",
    "yttm.BPE.train(data='corpus.txt', vocab_size=5000, model='bpe.model', pad_id=0, unk_id=1, bos_id=2, eos_id=3)\n",
    "bpe = yttm.BPE('bpe.model')"
   ],
   "metadata": {
    "collapsed": false
   }
  },
  {
   "cell_type": "code",
   "execution_count": 19,
   "outputs": [],
   "source": [
    "vocab = bpe.vocab()"
   ],
   "metadata": {
    "collapsed": false
   }
  },
  {
   "cell_type": "code",
   "execution_count": 20,
   "outputs": [
    {
     "name": "stdout",
     "output_type": "stream",
     "text": [
      "[102, 98, 70, 127, 84, 269, 1110]\n",
      "['а б в г д е ж']\n"
     ]
    }
   ],
   "source": [
    "#пример токенизации\n",
    "\n",
    "text = 'а б в г д е ж'\n",
    "print(bpe.encode(text))\n",
    "print(bpe.decode(bpe.encode(text)))"
   ],
   "metadata": {
    "collapsed": false
   }
  },
  {
   "cell_type": "code",
   "execution_count": 21,
   "outputs": [],
   "source": [
    "articles_df['tokenized_article'] = articles_df['article'].apply(bpe.encode)"
   ],
   "metadata": {
    "collapsed": false
   }
  },
  {
   "cell_type": "code",
   "execution_count": 22,
   "outputs": [
    {
     "name": "stdout",
     "output_type": "stream",
     "text": [
      "0    [1549, 209, 179, 101, 146, 182, 8, 360, 3024, ...\n",
      "0    [584, 88, 2237, 8, 3403, 279, 235, 114, 642, 2...\n",
      "0    [1549, 209, 179, 101, 146, 182, 8, 360, 3024, ...\n",
      "0    [584, 88, 2237, 8, 3403, 279, 235, 114, 642, 2...\n",
      "Name: tokenized_article, dtype: object\n"
     ]
    }
   ],
   "source": [
    "print(articles_df['tokenized_article'][0])"
   ],
   "metadata": {
    "collapsed": false
   }
  },
  {
   "cell_type": "code",
   "execution_count": 23,
   "outputs": [],
   "source": [
    "from sklearn.preprocessing import LabelEncoder\n",
    "\n",
    "le = LabelEncoder()\n",
    "articles_df['emotion'] = le.fit_transform(articles_df['emotion'])"
   ],
   "metadata": {
    "collapsed": false
   }
  },
  {
   "cell_type": "code",
   "execution_count": 24,
   "outputs": [
    {
     "data": {
      "text/plain": "count    1550.000000\nmean      280.720645\nstd       221.608330\nmin        60.000000\n25%       162.250000\n50%       227.000000\n75%       318.000000\nmax      2477.000000\nName: tokenized_article, dtype: float64"
     },
     "execution_count": 24,
     "metadata": {},
     "output_type": "execute_result"
    }
   ],
   "source": [
    "article_len = articles_df['tokenized_article'].apply(len)\n",
    "articles_df['article_len'] = article_len\n",
    "article_len.describe()\n"
   ],
   "metadata": {
    "collapsed": false
   }
  },
  {
   "cell_type": "code",
   "execution_count": 25,
   "outputs": [
    {
     "data": {
      "text/plain": "129"
     },
     "execution_count": 25,
     "metadata": {},
     "output_type": "execute_result"
    }
   ],
   "source": [
    "len(article_len[article_len > 500])"
   ],
   "metadata": {
    "collapsed": false
   }
  },
  {
   "cell_type": "code",
   "execution_count": 26,
   "outputs": [
    {
     "data": {
      "text/plain": "<Figure size 640x480 with 1 Axes>",
      "image/png": "[encoded data removed]"
     },
     "metadata": {},
     "output_type": "display_data"
    }
   ],
   "source": [
    "articles_df['article_len'].hist(bins=100)\n",
    "plt.show()"
   ],
   "metadata": {
    "collapsed": false
   }
  },
  {
   "cell_type": "markdown",
   "source": [
    "*Делаю кроп по слишком длинным статьям, добавляю паддинги, чтобы все токенизированные текста были одной длины*"
   ],
   "metadata": {
    "collapsed": false
   }
  },
  {
   "cell_type": "code",
   "execution_count": 27,
   "outputs": [],
   "source": [
    "def crop_article(article):\n",
    "    if len(article) > 400:\n",
    "        return article[:400]\n",
    "    else:\n",
    "        return article"
   ],
   "metadata": {
    "collapsed": false
   }
  },
  {
   "cell_type": "code",
   "execution_count": 28,
   "outputs": [],
   "source": [
    "articles_df['tokenized_article'] = articles_df['tokenized_article'].apply(crop_article)"
   ],
   "metadata": {
    "collapsed": false
   }
  },
  {
   "cell_type": "code",
   "execution_count": 29,
   "outputs": [],
   "source": [
    "def padding(articles, seq_len):\n",
    "    pads = np.zeros((len(articles), seq_len),dtype=int)\n",
    "    for ii, article in enumerate(articles):\n",
    "        if len(article) != 0:\n",
    "            pads[ii, -len(article):] = np.array(article)[:seq_len]\n",
    "    return pads"
   ],
   "metadata": {
    "collapsed": false
   }
  },
  {
   "cell_type": "code",
   "execution_count": 30,
   "outputs": [],
   "source": [
    "import numpy as np\n",
    "X = padding(articles_df['tokenized_article'], 400)"
   ],
   "metadata": {
    "collapsed": false
   }
  },
  {
   "cell_type": "code",
   "execution_count": 31,
   "outputs": [
    {
     "data": {
      "text/plain": "array([[   0,    0,    0, ..., 2476, 4445,  502],\n       [   0,    0,    0, ..., 2353, 2237,  659],\n       [   0,    0,    0, ..., 1644,  672,   25],\n       ...,\n       [   0,    0,    0, ...,  114, 1099, 1996],\n       [   0,    0,    0, ...,   35, 4730,  579],\n       [   0,    0,    0, ..., 1404, 3121,  466]])"
     },
     "execution_count": 31,
     "metadata": {},
     "output_type": "execute_result"
    }
   ],
   "source": [
    "X"
   ],
   "metadata": {
    "collapsed": false
   }
  },
  {
   "cell_type": "markdown",
   "source": [
    "*Разбиваю на трейн, валидацию и тест*"
   ],
   "metadata": {
    "collapsed": false
   }
  },
  {
   "cell_type": "code",
   "execution_count": 32,
   "outputs": [],
   "source": [
    "from sklearn.model_selection import train_test_split\n",
    "\n",
    "X_train, X_valid, y_train, y_valid = train_test_split(X, articles_df['emotion'], test_size=0.2, random_state=42)\n",
    "X_valid, X_test, y_valid, y_test = train_test_split(X_valid, y_valid, test_size=0.5, random_state=42)"
   ],
   "metadata": {
    "collapsed": false
   }
  },
  {
   "cell_type": "markdown",
   "source": [
    "*Создаю даталоадеры*"
   ],
   "metadata": {
    "collapsed": false
   }
  },
  {
   "cell_type": "code",
   "execution_count": 33,
   "outputs": [
    {
     "name": "stdout",
     "output_type": "stream",
     "text": [
      "torch.Size([40, 400]) torch.Size([40])\n"
     ]
    }
   ],
   "source": [
    "import torch\n",
    "from torch.utils.data import TensorDataset, DataLoader\n",
    "import torch.nn as nn\n",
    "\n",
    "train_data = TensorDataset(torch.from_numpy(X_train), torch.from_numpy(y_train.values))\n",
    "validation_data = TensorDataset(torch.from_numpy(X_valid), torch.from_numpy(y_valid.values))\n",
    "test_data = TensorDataset(torch.from_numpy(X_test), torch.from_numpy(y_test.values))\n",
    "\n",
    "batch_size = 40\n",
    "\n",
    "train_loader = DataLoader(train_data, shuffle=True, batch_size=batch_size, drop_last=True)\n",
    "validation_loader = DataLoader(validation_data, shuffle=True, batch_size=batch_size, drop_last=True)\n",
    "test_loader = DataLoader(test_data, shuffle=True, batch_size=batch_size, drop_last=True)\n",
    "dataiter = next(iter(train_loader))\n",
    "X, y = dataiter\n",
    "print(X.shape, y.shape)"
   ],
   "metadata": {
    "collapsed": false
   }
  },
  {
   "cell_type": "markdown",
   "source": [
    "*Далее идет реализации nn.Embedding+nn.LSTM+nn.Linear модели с активацией (сигмоида) в конце*"
   ],
   "metadata": {
    "collapsed": false
   }
  },
  {
   "cell_type": "code",
   "execution_count": 34,
   "outputs": [],
   "source": [
    "class RNN(nn.Module):\n",
    "    def __init__(self):\n",
    "        super(RNN,self).__init__()\n",
    "\n",
    "        self.output_dim = 1\n",
    "        self.hidden_dim = 128\n",
    "        self.no_layers = 3\n",
    "        self.vocab_size = len(vocab)\n",
    "\n",
    "        self.embedding = nn.Embedding(len(vocab), 50)\n",
    "\n",
    "        self.lstm = nn.LSTM(input_size=50, hidden_size=self.hidden_dim, num_layers=self.no_layers, batch_first=True)\n",
    "\n",
    "        self.dropout = nn.Dropout(0.3)\n",
    "        self.fc = nn.Linear(self.hidden_dim, self.output_dim)\n",
    "        self.sig = nn.Sigmoid()\n",
    "\n",
    "    def forward(self,x,hidden):\n",
    "        batch_len = x.size(0)\n",
    "        embeds = self.embedding(x)\n",
    "\n",
    "        lstm_out, hidden = self.lstm(embeds, hidden)\n",
    "        lstm_out = lstm_out.contiguous().view(-1, self.hidden_dim)\n",
    "\n",
    "        out = self.dropout(lstm_out)\n",
    "        out = self.fc(out)\n",
    "\n",
    "        sig_out = self.sig(out)\n",
    "        sig_out = sig_out.view(batch_len, -1)\n",
    "        sig_out = sig_out[:, -1]\n",
    "        return sig_out, hidden\n",
    "\n",
    "    def init_hidden(self, batch_len):\n",
    "        h0 = torch.zeros((self.no_layers,batch_len,self.hidden_dim)).to(device)\n",
    "        c0 = torch.zeros((self.no_layers,batch_len,self.hidden_dim)).to(device)\n",
    "        hidden = (h0,c0)\n",
    "        return hidden"
   ],
   "metadata": {
    "collapsed": false
   }
  },
  {
   "cell_type": "code",
   "execution_count": 35,
   "outputs": [
    {
     "name": "stdout",
     "output_type": "stream",
     "text": [
      "GPU not available\n",
      "RNN(\n",
      "  (embedding): Embedding(5000, 50)\n",
      "  (lstm): LSTM(50, 128, num_layers=3, batch_first=True)\n",
      "  (dropout): Dropout(p=0.3, inplace=False)\n",
      "  (fc): Linear(in_features=128, out_features=1, bias=True)\n",
      "  (sig): Sigmoid()\n",
      ")\n"
     ]
    }
   ],
   "source": [
    "\n",
    "model = RNN()\n",
    "model, device = switch_device_if_cuda_available(model)\n",
    "print(model)"
   ],
   "metadata": {
    "collapsed": false
   }
  },
  {
   "cell_type": "markdown",
   "source": [
    "*Обучение*"
   ],
   "metadata": {
    "collapsed": false
   }
  },
  {
   "cell_type": "code",
   "execution_count": 36,
   "outputs": [],
   "source": [
    "import torch\n",
    "import torch.nn as nn\n",
    "import numpy as np\n",
    "\n",
    "def train_epoch(model, train_loader, criterion, optimizer, device, clip):\n",
    "    model.train()\n",
    "    train_losses = []\n",
    "    train_acc = 0.0\n",
    "    h = model.init_hidden(batch_size)\n",
    "\n",
    "    for inputs, labels in train_loader:\n",
    "        inputs, labels = inputs.to(device), labels.to(device)\n",
    "        h = tuple([each.data for each in h])\n",
    "        optimizer.zero_grad()\n",
    "        output, h = model(inputs, h)\n",
    "\n",
    "        loss = criterion(output.squeeze(), labels.float())\n",
    "        loss.backward()\n",
    "        train_losses.append(loss.item())\n",
    "\n",
    "        accuracy = calculate_accuracy(output, labels)\n",
    "        train_acc += accuracy\n",
    "\n",
    "        nn.utils.clip_grad_norm_(model.parameters(), clip)\n",
    "        optimizer.step()\n",
    "\n",
    "    return np.mean(train_losses), train_acc / len(train_loader.dataset)"
   ],
   "metadata": {
    "collapsed": false
   }
  },
  {
   "cell_type": "code",
   "execution_count": 37,
   "outputs": [],
   "source": [
    "\n",
    "def validate_epoch(model, validation_loader, criterion, device):\n",
    "    model.eval()\n",
    "    val_losses = []\n",
    "    val_acc = 0.0\n",
    "    val_h = model.init_hidden(batch_size)\n",
    "\n",
    "    for inputs, labels in validation_loader:\n",
    "        val_h = tuple([each.data for each in val_h])\n",
    "        inputs, labels = inputs.to(device), labels.to(device)\n",
    "        output, val_h = model(inputs, val_h)\n",
    "        val_loss = criterion(output.squeeze(), labels.float())\n",
    "        val_losses.append(val_loss.item())\n",
    "\n",
    "        accuracy = calculate_accuracy(output, labels)\n",
    "        val_acc += accuracy\n",
    "\n",
    "    return np.mean(val_losses), val_acc / len(validation_loader.dataset)"
   ],
   "metadata": {
    "collapsed": false
   }
  },
  {
   "cell_type": "code",
   "execution_count": 38,
   "outputs": [],
   "source": [
    "\n",
    "def calculate_accuracy(output, labels):\n",
    "    pred = torch.round(output.squeeze())\n",
    "    correct_tensor = pred.eq(labels.long().view_as(pred))\n",
    "    return np.sum(correct_tensor.cpu().numpy())"
   ],
   "metadata": {
    "collapsed": false
   }
  },
  {
   "cell_type": "code",
   "execution_count": 39,
   "outputs": [],
   "source": [
    "\n",
    "def train_model(model, train_loader, validation_loader, criterion, optimizer, device, epochs, clip, valid_loss_min=np.Inf):\n",
    "    epoch_tr_loss =[]\n",
    "    epoch_tr_acc = []\n",
    "    epoch_vl_loss = []\n",
    "    epoch_vl_acc = []\n",
    "    best_model = None\n",
    "\n",
    "    for epoch in range(epochs):\n",
    "        train_loss, train_acc = train_epoch(model, train_loader, criterion, optimizer, device, clip)\n",
    "        valid_loss, valid_acc = validate_epoch(model, validation_loader, criterion, device)\n",
    "\n",
    "        epoch_tr_loss.append(train_loss)\n",
    "        epoch_vl_loss.append(valid_loss)\n",
    "        epoch_tr_acc.append(train_acc)\n",
    "        epoch_vl_acc.append(valid_acc)\n",
    "\n",
    "        print(f'Epoch {epoch + 1}')\n",
    "        print(f'train_acc: {train_acc * 100} train_loss: {train_loss}')\n",
    "        print(f'val_acc: {valid_acc * 100} val_loss: {valid_loss}')\n",
    "        if valid_loss <= valid_loss_min:\n",
    "            valid_loss_min = valid_loss\n",
    "            best_model = model\n",
    "            print(f'Loss of validation decreased to {valid_loss}.'\n",
    "                  f'Best model saved')\n",
    "    return epoch_tr_loss, epoch_vl_loss, epoch_tr_acc, epoch_vl_acc, best_model"
   ],
   "metadata": {
    "collapsed": false
   }
  },
  {
   "cell_type": "code",
   "execution_count": 40,
   "outputs": [
    {
     "name": "stdout",
     "output_type": "stream",
     "text": [
      "Epoch 1\n",
      "train_acc: 56.935483870967744 train_loss: 0.672453103526946\n",
      "val_acc: 52.903225806451616 val_loss: 0.6358752051989237\n",
      "Loss of validation decreased to 0.6358752051989237.Best model saved\n",
      "Epoch 2\n",
      "train_acc: 75.80645161290323 train_loss: 0.5348503781903174\n",
      "val_acc: 54.19354838709678 val_loss: 0.5731425285339355\n",
      "Loss of validation decreased to 0.5731425285339355.Best model saved\n",
      "Epoch 3\n",
      "train_acc: 85.16129032258064 train_loss: 0.3717367644271543\n",
      "val_acc: 60.0 val_loss: 0.46734171112378436\n",
      "Loss of validation decreased to 0.46734171112378436.Best model saved\n",
      "Epoch 4\n",
      "train_acc: 93.2258064516129 train_loss: 0.21500767623224565\n",
      "val_acc: 67.74193548387096 val_loss: 0.3380855719248454\n",
      "Loss of validation decreased to 0.3380855719248454.Best model saved\n",
      "Epoch 5\n",
      "train_acc: 96.45161290322581 train_loss: 0.12541633922486536\n",
      "val_acc: 70.96774193548387 val_loss: 0.34267722566922504\n",
      "Epoch 6\n",
      "train_acc: 97.09677419354838 train_loss: 0.12011305453075517\n",
      "val_acc: 68.38709677419355 val_loss: 0.38380291561285657\n",
      "Epoch 7\n",
      "train_acc: 97.58064516129032 train_loss: 0.10447240635872848\n",
      "val_acc: 69.03225806451613 val_loss: 0.35668792327245075\n",
      "Epoch 8\n",
      "train_acc: 97.5 train_loss: 0.0980328007210647\n",
      "val_acc: 71.61290322580646 val_loss: 0.24959804117679596\n",
      "Loss of validation decreased to 0.24959804117679596.Best model saved\n",
      "Epoch 9\n",
      "train_acc: 98.54838709677419 train_loss: 0.05727690178900957\n",
      "val_acc: 70.3225806451613 val_loss: 0.30679548780123395\n",
      "Epoch 10\n",
      "train_acc: 98.79032258064517 train_loss: 0.04832060867920518\n",
      "val_acc: 69.6774193548387 val_loss: 0.31335678696632385\n"
     ]
    }
   ],
   "source": [
    "\n",
    "criterion = nn.BCELoss()\n",
    "optimizer = torch.optim.Adam(model.parameters(), lr=0.002)\n",
    "epoch_tr_loss, epoch_vl_loss, epoch_tr_acc, epoch_vl_acc, best_model = train_model(model, train_loader, validation_loader, criterion, optimizer, device, epochs=10, clip=10)"
   ],
   "metadata": {
    "collapsed": false
   }
  },
  {
   "cell_type": "code",
   "execution_count": 41,
   "outputs": [],
   "source": [
    "def predict_text(text):\n",
    "    text = bpe.encode(text)\n",
    "    text = np.array(text)\n",
    "    text = np.expand_dims(text, axis=0)\n",
    "    text = torch.from_numpy(text)\n",
    "    text = text.to(device)\n",
    "    model.eval()\n",
    "    h = model.init_hidden(1)\n",
    "    h = tuple([each.data for each in h])\n",
    "    output, h = model(text, h)\n",
    "    return output.item()"
   ],
   "metadata": {
    "collapsed": false
   }
  },
  {
   "cell_type": "markdown",
   "source": [
    "*Проверка на тесте*"
   ],
   "metadata": {
    "collapsed": false
   }
  },
  {
   "cell_type": "code",
   "execution_count": 42,
   "outputs": [],
   "source": [
    "def test_model(model, test_loader, criterion, device):\n",
    "    model.eval()\n",
    "    test_losses = []\n",
    "    num_correct = 0\n",
    "\n",
    "    test_h = model.init_hidden(batch_size)\n",
    "    for inputs, labels in test_loader:\n",
    "        test_h = tuple([each.data for each in test_h])\n",
    "        inputs, labels = inputs.to(device), labels.to(device)\n",
    "        output, test_h = model(inputs, test_h)\n",
    "\n",
    "        test_loss = criterion(output.squeeze(), labels.float())\n",
    "        test_losses.append(test_loss.item())\n",
    "\n",
    "        pred = torch.round(output.squeeze())\n",
    "\n",
    "        correct_tensor = pred.eq(labels.float().view_as(pred))\n",
    "        correct = np.squeeze(correct_tensor.cpu().numpy())\n",
    "        num_correct += np.sum(correct)\n",
    "\n",
    "    test_accuracy = num_correct / len(test_loader.dataset)\n",
    "    print(f'Test accuracy: {test_accuracy}')\n",
    "    print(f'Test loss: {np.mean(test_losses)}')"
   ],
   "metadata": {
    "collapsed": false
   }
  },
  {
   "cell_type": "code",
   "execution_count": 46,
   "outputs": [
    {
     "name": "stdout",
     "output_type": "stream",
     "text": [
      "Test accuracy: 0.6967741935483871\n",
      "Test loss: 0.3327360302209854\n"
     ]
    }
   ],
   "source": [
    "# model_for_test = best_model\n",
    "# model_for_test, device = switch_device_if_cuda_available(model_for_test)\n",
    "test_model(model, test_loader, criterion, device)"
   ],
   "metadata": {
    "collapsed": false
   }
  }
 ],
 "metadata": {
  "kernelspec": {
   "display_name": "Python 3",
   "language": "python",
   "name": "python3"
  },
  "language_info": {
   "codemirror_mode": {
    "name": "ipython",
    "version": 2
   },
   "file_extension": ".py",
   "mimetype": "text/x-python",
   "name": "python",
   "nbconvert_exporter": "python",
   "pygments_lexer": "ipython2",
   "version": "2.7.6"
  }
 },
 "nbformat": 4,
 "nbformat_minor": 0
}
