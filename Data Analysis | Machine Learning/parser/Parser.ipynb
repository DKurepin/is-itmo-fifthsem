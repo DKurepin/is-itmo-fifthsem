{
 "cells": [
  {
   "cell_type": "markdown",
   "source": [
    "#MULTI THREADING CRAWLING AND SCRAPING CODE\n",
    "#WEBSITE: https://www.dubicars.com/\n",
    "#PAGES TO CRAWL: 150\n",
    "#LINKS TO SCRAPE: 4500\n",
    "#ESTIMATED TIME OF EXECUTION WITH MULTI THREADING: 6 MINUTES"
   ],
   "metadata": {
    "collapsed": false
   }
  },
  {
   "cell_type": "code",
   "execution_count": 2,
   "outputs": [
    {
     "data": {
      "text/plain": "  0%|          | 0/150 [00:00<?, ?it/s]",
      "application/vnd.jupyter.widget-view+json": {
       "version_major": 2,
       "version_minor": 0,
       "model_id": "7d6846e6dd47481789bef020e5853596"
      }
     },
     "metadata": {},
     "output_type": "display_data"
    }
   ],
   "source": [
    "import requests\n",
    "from bs4 import BeautifulSoup\n",
    "import time\n",
    "from tqdm.notebook import tqdm\n",
    "import threading\n",
    "\n",
    "links = []\n",
    "base_link = 'https://www.dubicars.com/search?view=&ms=yes&o=&ul=NL&ma=&mo=&b=&set=bu&pf=10000&c=new-and-used&eo=&stsd=&cr=USD&cy=&co=&s=&gi=&f=&g=&l=&st=&page='\n",
    "\n",
    "def fetch_links(url):\n",
    "    r = requests.get(url)\n",
    "    html = BeautifulSoup(r.content, \"html.parser\")\n",
    "    res = html.find_all('a', class_='title fw-600 mt-12 d-block')\n",
    "    links.extend([elem['href'] for elem in res])\n",
    "\n",
    "with tqdm(total=150) as pbar:\n",
    "    threads = []\n",
    "    for i in range(0, 150):\n",
    "        url = f'{base_link}{i}'\n",
    "        t = threading.Thread(target=fetch_links, args=(url,))\n",
    "        threads.append(t)\n",
    "        t.start()\n",
    "\n",
    "        pbar.update(1)\n",
    "\n",
    "for t in threads:\n",
    "    t.join()"
   ],
   "metadata": {
    "collapsed": false
   }
  },
  {
   "cell_type": "code",
   "execution_count": 119,
   "outputs": [],
   "source": [
    "r = requests.get('https://www.d-kvadrat.ru/novosti')"
   ],
   "metadata": {
    "collapsed": false
   }
  },
  {
   "cell_type": "code",
   "execution_count": 120,
   "outputs": [],
   "source": [
    "html = BeautifulSoup(r.content, \"html.parser\")"
   ],
   "metadata": {
    "collapsed": false
   }
  },
  {
   "cell_type": "code",
   "execution_count": 121,
   "outputs": [],
   "source": [
    "all_links_articles = html.find_all('a', class_='item__title-link')\n",
    "all_links_articles = [elem['href'] for elem in all_links_articles]"
   ],
   "metadata": {
    "collapsed": false
   }
  },
  {
   "cell_type": "code",
   "execution_count": 122,
   "outputs": [
    {
     "name": "stdout",
     "output_type": "stream",
     "text": [
      "16\n"
     ]
    }
   ],
   "source": [
    "print(len(all_links_articles))"
   ],
   "metadata": {
    "collapsed": false
   }
  },
  {
   "cell_type": "code",
   "execution_count": 123,
   "outputs": [
    {
     "name": "stdout",
     "output_type": "stream",
     "text": [
      "['/novosti/28714', '/novosti/28713', '/novosti/28712', '/novosti/28711', '/novosti/28710', '/novosti/28709', '/novosti/28708', '/novosti/28707', '/novosti/28698', '/novosti/28697', '/novosti/28696', '/novosti/28694', '/novosti/28695', '/novosti/28693', '/novosti/28692', '/novosti/28691']\n"
     ]
    }
   ],
   "source": [
    "print(all_links_articles)"
   ],
   "metadata": {
    "collapsed": false
   }
  },
  {
   "cell_type": "code",
   "execution_count": 168,
   "outputs": [
    {
     "name": "stdout",
     "output_type": "stream",
     "text": [
      "['https://www.d-kvadrat.ru/novosti/28714', 'https://www.d-kvadrat.ru/novosti/28713', 'https://www.d-kvadrat.ru/novosti/28712', 'https://www.d-kvadrat.ru/novosti/28711', 'https://www.d-kvadrat.ru/novosti/28710', 'https://www.d-kvadrat.ru/novosti/28709', 'https://www.d-kvadrat.ru/novosti/28708', 'https://www.d-kvadrat.ru/novosti/28707', 'https://www.d-kvadrat.ru/novosti/28698', 'https://www.d-kvadrat.ru/novosti/28697', 'https://www.d-kvadrat.ru/novosti/28696', 'https://www.d-kvadrat.ru/novosti/28694', 'https://www.d-kvadrat.ru/novosti/28695', 'https://www.d-kvadrat.ru/novosti/28693', 'https://www.d-kvadrat.ru/novosti/28692', 'https://www.d-kvadrat.ru/novosti/28691']\n"
     ]
    }
   ],
   "source": [
    "base = 'https://www.d-kvadrat.ru'\n",
    "links = [base + elem for elem in all_links_articles]\n",
    "print(links)"
   ],
   "metadata": {
    "collapsed": false
   }
  },
  {
   "cell_type": "code",
   "execution_count": 200,
   "outputs": [],
   "source": [
    "link_1 = requests.get(links[12])"
   ],
   "metadata": {
    "collapsed": false
   }
  },
  {
   "cell_type": "code",
   "execution_count": 199,
   "outputs": [],
   "source": [
    "html = BeautifulSoup(link_1.content, \"html.parser\")\n"
   ],
   "metadata": {
    "collapsed": false
   }
  },
  {
   "cell_type": "code",
   "execution_count": 211,
   "outputs": [
    {
     "name": "stdout",
     "output_type": "stream",
     "text": [
      "Индекс МосБиржи в пятницу продолжил снижаться\n"
     ]
    }
   ],
   "source": [
    "title = html.find_all('h1', class_='item__title')\n",
    "title = [elem.getText() for elem in title]\n",
    "print(title[0])"
   ],
   "metadata": {
    "collapsed": false
   }
  },
  {
   "cell_type": "code",
   "execution_count": 212,
   "outputs": [
    {
     "name": "stdout",
     "output_type": "stream",
     "text": [
      "Индекс МосБиржи в пятницу продолжил снижаться, завершив торги на минимальной отметке с начала октября. Об этом сообщил главный аналитик ПСБ Алексей Головинов. \n"
     ]
    }
   ],
   "source": [
    "span = html.find_all('span', class_='article-page__paragraph')\n",
    "span = [elem.getText() for elem in span]\n",
    "print(span[0])"
   ],
   "metadata": {
    "collapsed": false
   }
  },
  {
   "cell_type": "code",
   "execution_count": 234,
   "outputs": [
    {
     "name": "stdout",
     "output_type": "stream",
     "text": [
      "Объёмы торгов резко сократились, оказавшись почти на четверть ниже среднего значения за неделю, составив в итоге 49,1 млрд руб. Риски дальнейшего повышения ставки ЦБ РФ, падение цен на нефть и отсутствие факторов, которые бы могли вернуть индекс к росту, полностью нивелировали ослабление рубля.  Большинство акций понесли ощутимые потери, лишь бумаги нефтегазового и металлургического секторов удержали индекс МосБиржи от более глубокой просадки. На фоне приближения дивидендной отсечки лучше рынка были бумаги ЛУКОЙЛа, сравнительно неплохо выглядели также акции Газпрома и сталелитейщиков. Несмотря на общерыночный пессимизм смогли подрасти акции золотодобытчиков. Цены на золото продолжают расти на ожиданиях завершения цикла повышения ставки ФРС.  Что касается бумаг Сбербанка, то они всё же смогли удержаться в диапазоне 272-274 рублей. Однако видя динамику акции в последние дни, вполне вероятно, что и этот уровень поддержки может быть пройден уже сегодня, что увеличивает вероятность увидеть бумаги компании ниже отметки 270 рублей.  Сильно просели акции ИТ-компаний, в особенности бумаги Яндекса. В пятницу они потеряли более 4% без каких-либо значимых новостей.  Явно хуже рынка была акции транспортных компаний. Если в случае с бумагами НМТП и ДВМП, это не стало чем-то особенным, они снижаются уже продолжительное время, то столь сильное падение акций Совкомфлота стало неожиданностью, учитывая высокую дивидендную доходность и стабильное финансовое положение. При этом объёмы торгов существенно не выросли.\n"
     ]
    }
   ],
   "source": [
    "all_paragraphs = html.find_all('p')\n",
    "only_art_text = all_paragraphs[:-3]\n",
    "clean_paragraphs = lambda s: s.replace('\\n', '').replace('\\t', '').replace('\\r', '')\n",
    "article = [clean_paragraphs(elem.getText()) for elem in only_art_text]\n",
    "article = ' '.join(article)\n",
    "print(article)"
   ],
   "metadata": {
    "collapsed": false
   }
  },
  {
   "cell_type": "code",
   "execution_count": 237,
   "outputs": [
    {
     "name": "stdout",
     "output_type": "stream",
     "text": [
      "Индекс МосБиржи в пятницу продолжил снижаться Индекс МосБиржи в пятницу продолжил снижаться, завершив торги на минимальной отметке с начала октября. Об этом сообщил главный аналитик ПСБ Алексей Головинов.  Объёмы торгов резко сократились, оказавшись почти на четверть ниже среднего значения за неделю, составив в итоге 49,1 млрд руб. Риски дальнейшего повышения ставки ЦБ РФ, падение цен на нефть и отсутствие факторов, которые бы могли вернуть индекс к росту, полностью нивелировали ослабление рубля.  Большинство акций понесли ощутимые потери, лишь бумаги нефтегазового и металлургического секторов удержали индекс МосБиржи от более глубокой просадки. На фоне приближения дивидендной отсечки лучше рынка были бумаги ЛУКОЙЛа, сравнительно неплохо выглядели также акции Газпрома и сталелитейщиков. Несмотря на общерыночный пессимизм смогли подрасти акции золотодобытчиков. Цены на золото продолжают расти на ожиданиях завершения цикла повышения ставки ФРС.  Что касается бумаг Сбербанка, то они всё же смогли удержаться в диапазоне 272-274 рублей. Однако видя динамику акции в последние дни, вполне вероятно, что и этот уровень поддержки может быть пройден уже сегодня, что увеличивает вероятность увидеть бумаги компании ниже отметки 270 рублей.  Сильно просели акции ИТ-компаний, в особенности бумаги Яндекса. В пятницу они потеряли более 4% без каких-либо значимых новостей.  Явно хуже рынка была акции транспортных компаний. Если в случае с бумагами НМТП и ДВМП, это не стало чем-то особенным, они снижаются уже продолжительное время, то столь сильное падение акций Совкомфлота стало неожиданностью, учитывая высокую дивидендную доходность и стабильное финансовое положение. При этом объёмы торгов существенно не выросли.\n"
     ]
    }
   ],
   "source": [
    "title_span_article = \" \".join([title[0], span[0], article])\n",
    "print(title_span_article)"
   ],
   "metadata": {
    "collapsed": false
   }
  },
  {
   "cell_type": "code",
   "execution_count": 238,
   "outputs": [],
   "source": [
    "rus_alph = set(list('абвгдеёжзийклмнопрстуфхцчшщъыьэюяАБВГДЕЁЖЗИЙКЛМНОПРСТУФХЦЧШЫЬЭЮЯ'))\n"
   ],
   "metadata": {
    "collapsed": false
   }
  },
  {
   "cell_type": "code",
   "execution_count": 239,
   "outputs": [],
   "source": [
    "drop_not_rus = lambda s: ''.join(list(filter(lambda x: x in rus_alph or x == ' ', s)))\n"
   ],
   "metadata": {
    "collapsed": false
   }
  },
  {
   "cell_type": "code",
   "execution_count": 240,
   "outputs": [
    {
     "name": "stdout",
     "output_type": "stream",
     "text": [
      "Индекс МосБиржи в пятницу продолжил снижаться Индекс МосБиржи в пятницу продолжил снижаться завершив торги на минимальной отметке с начала октября Об этом сообщил главный аналитик ПСБ Алексей Головинов  Объёмы торгов резко сократились оказавшись почти на четверть ниже среднего значения за неделю составив в итоге  млрд руб Риски дальнейшего повышения ставки ЦБ РФ падение цен на нефть и отсутствие факторов которые бы могли вернуть индекс к росту полностью нивелировали ослабление рубля  Большинство акций понесли ощутимые потери лишь бумаги нефтегазового и металлургического секторов удержали индекс МосБиржи от более глубокой просадки На фоне приближения дивидендной отсечки лучше рынка были бумаги ЛУКОЙЛа сравнительно неплохо выглядели также акции Газпрома и сталелитейщиков Несмотря на общерыночный пессимизм смогли подрасти акции золотодобытчиков Цены на золото продолжают расти на ожиданиях завершения цикла повышения ставки ФРС  Что касается бумаг Сбербанка то они всё же смогли удержаться в диапазоне  рублей Однако видя динамику акции в последние дни вполне вероятно что и этот уровень поддержки может быть пройден уже сегодня что увеличивает вероятность увидеть бумаги компании ниже отметки  рублей  Сильно просели акции ИТкомпаний в особенности бумаги Яндекса В пятницу они потеряли более  без какихлибо значимых новостей  Явно хуже рынка была акции транспортных компаний Если в случае с бумагами НМТП и ДВМП это не стало чемто особенным они снижаются уже продолжительное время то столь сильное падение акций Совкомфлота стало неожиданностью учитывая высокую дивидендную доходность и стабильное финансовое положение При этом объёмы торгов существенно не выросли\n"
     ]
    }
   ],
   "source": [
    "print(drop_not_rus(title_span_article))"
   ],
   "metadata": {
    "collapsed": false
   }
  },
  {
   "cell_type": "code",
   "execution_count": null,
   "outputs": [],
   "source": [],
   "metadata": {
    "collapsed": false
   }
  },
  {
   "cell_type": "code",
   "execution_count": 4,
   "outputs": [
    {
     "name": "stdout",
     "output_type": "stream",
     "text": [
      "https://www.dubicars.com/2019-mercedes-benz-e-63-amg-4matic-mercedes-benz-amg-e63s-edition1-2019-fresh-japan-import-clean-title-683866.html\n"
     ]
    }
   ],
   "source": [
    "print(links[0])"
   ],
   "metadata": {
    "collapsed": false
   }
  },
  {
   "cell_type": "code",
   "execution_count": 57,
   "outputs": [],
   "source": [
    "r = requests.get(links[992])\n",
    "html = BeautifulSoup(r.content, \"html.parser\")\n"
   ],
   "metadata": {
    "collapsed": false
   }
  },
  {
   "cell_type": "code",
   "execution_count": 58,
   "outputs": [],
   "source": [
    "#find description by id = car-description\n",
    "car_description = html.select_one('#car-description').text.strip()"
   ],
   "metadata": {
    "collapsed": false
   }
  },
  {
   "cell_type": "code",
   "execution_count": 59,
   "outputs": [
    {
     "name": "stdout",
     "output_type": "stream",
     "text": [
      "Volkswagen Golf 2016 GCC under Warranty with Flexible Down-Payment.\n",
      "Payment Plans through bank finance: \n",
      "A) AED 1,170 monthly for 5 years with 0% Down-Payment / flexible.\n",
      "B) AED 950 monthly for 5 years with 20% Down-Payment / flexible.\n",
      "C) AED 59,750 cash.\n",
      "__________________\n",
      "To book an appointment call:\n",
      "Ibrahim @ \n",
      "Mohd @ \n",
      "Jay @ \n",
      "Aly @ \n",
      "Majd @ \n",
      "Haneen @ \n",
      "__________________\n",
      "Vehicle Details:\n",
      "Exterior Color: Black.\n",
      "Interior Color: Beige.\n",
      "Trim: Golf.\n",
      "Model Year: 2016.\n",
      "Mileage: 83,000 kms.\n",
      "Engine: 4 Cylinder.\n",
      "Spec: GCC.\n",
      "Transmission: Automatic.\n",
      "Condition: Excellent Condition.\n",
      "Service: Available for a fee.\n",
      "Warranty: One year free repair inclusive.\n",
      "__________________\n",
      "Extra Expenses:\n",
      "Approx. 2.5% for Car insurance.\n",
      "AED 1,000 – Evaluation.\n",
      "AED 1,200 – RTA/Car registration fee.\n"
     ]
    }
   ],
   "source": [
    "print(car_description)"
   ],
   "metadata": {
    "collapsed": false
   }
  },
  {
   "cell_type": "code",
   "execution_count": 60,
   "outputs": [],
   "source": [
    "eng_alph = set(list('abcdefghijklmnopqrstuvwxyzABCDEFGHIJKLMNOPQRSTUVWXYZ'))"
   ],
   "metadata": {
    "collapsed": false
   }
  },
  {
   "cell_type": "code",
   "execution_count": 61,
   "outputs": [],
   "source": [
    "drop_not_letters = lambda s: ''.join(list(filter(lambda x: x in eng_alph or x == ' ', s)))"
   ],
   "metadata": {
    "collapsed": false
   }
  },
  {
   "cell_type": "code",
   "execution_count": 62,
   "outputs": [
    {
     "name": "stdout",
     "output_type": "stream",
     "text": [
      "Volkswagen Golf  GCC under Warranty with Flexible DownPaymentPayment Plans through bank finance A AED  monthly for  years with  DownPayment  flexibleB AED  monthly for  years with  DownPayment  flexibleC AED  cashTo book an appointment callIbrahim  Mohd  Jay  Aly  Majd  Haneen  Vehicle DetailsExterior Color BlackInterior Color BeigeTrim GolfModel Year Mileage  kmsEngine  CylinderSpec GCCTransmission AutomaticCondition Excellent ConditionService Available for a feeWarranty One year free repair inclusiveExtra ExpensesApprox  for Car insuranceAED   EvaluationAED   RTACar registration fee\n"
     ]
    }
   ],
   "source": [
    "print(drop_not_letters(car_description))"
   ],
   "metadata": {
    "collapsed": false
   }
  },
  {
   "cell_type": "code",
   "execution_count": 13,
   "outputs": [
    {
     "data": {
      "text/plain": "  0%|          | 0/4500 [00:00<?, ?it/s]",
      "application/vnd.jupyter.widget-view+json": {
       "version_major": 2,
       "version_minor": 0,
       "model_id": "6458557ae1bf456ba7d6727b998a636a"
      }
     },
     "metadata": {},
     "output_type": "display_data"
    }
   ],
   "source": [
    "import re\n",
    "from decimal import Decimal\n",
    "from tqdm.notebook import tqdm\n",
    "import pandas as pd\n",
    "from multiprocessing import Process\n",
    "\n",
    "\n",
    "def extract_mileage_and_unit(string):\n",
    "    pattern = r'\\d+\\,\\d+'\n",
    "    unit_pattern = r\"(\\w+)\"\n",
    "    try:\n",
    "        mileage = re.search(pattern, string).group()\n",
    "        unit = re.search(unit_pattern, string).group(1)\n",
    "        mileage = Decimal(mileage.replace(',', '.'))\n",
    "    except:\n",
    "        mileage = 0\n",
    "        unit = 'Kilometers'\n",
    "    return mileage, unit\n",
    "\n",
    "\n",
    "def extract_price_and_currency(string):\n",
    "    pattern = r'\\d+\\,\\d+'\n",
    "    big_pattern = r'\\d+\\,\\d+\\,\\d+'  # 1,000,000\n",
    "    if re.search(big_pattern, string):\n",
    "        price = re.search(big_pattern, string).group()\n",
    "        currency = string.replace(price, '').strip()\n",
    "        price = Decimal(price.replace(',', ''))\n",
    "\n",
    "\n",
    "    else:\n",
    "        price = re.search(pattern, string).group()\n",
    "        currency = string.replace(price, '').strip()\n",
    "        price = Decimal(price.replace(',', '.'))\n",
    "    return price, currency\n",
    "\n",
    "\n",
    "def extract_car_manufacturer(string):\n",
    "    pattern = r\"\\s+(.*)\"\n",
    "    result = re.search(pattern, string).group().strip()\n",
    "    return result\n",
    "\n",
    "\n",
    "def extract_car_model(string):\n",
    "    pattern = r\"\\s+(.*)\"\n",
    "    result = re.search(pattern, string).group().strip()\n",
    "    return result\n",
    "\n",
    "\n",
    "def extract_wheels_size(string):\n",
    "    pattern = r\"\\d+\"\n",
    "    result = int(re.search(pattern, string).group().strip())\n",
    "    return result\n",
    "\n",
    "\n",
    "def extract_car_color(string):\n",
    "    pattern = r\"\\s+(.*)\"\n",
    "    result = re.search(pattern, string).group().strip()\n",
    "    return result\n",
    "\n",
    "data = []\n",
    "def extract_car_data(link: str) -> dict:\n",
    "    try:\n",
    "        r = requests.get(link)\n",
    "        html = BeautifulSoup(r.content, \"html.parser\")\n",
    "\n",
    "        unit_name = html.find_all('span', 'car-title fw-700')[0].text\n",
    "\n",
    "        car_location = html.find_all('span', 'icon-location location')[0].text.strip()\n",
    "\n",
    "        price = html.find_all('div', 'price')[0].text.strip()\n",
    "        price, currency = extract_price_and_currency(price)\n",
    "\n",
    "        mileage_string = html.find_all('li', 'icon-gauge')[0].text.strip()\n",
    "        mileage, unit = extract_mileage_and_unit(mileage_string)\n",
    "\n",
    "        fuel_type = html.select_one('.icon-fuel > a.text-underline').text.strip()\n",
    "        model_year = int(html.select_one('.icon-calendar > a.text-underline').text.strip().split(' ')[0])\n",
    "\n",
    "        car_description = html.findAll('li', 'fd-col')\n",
    "        car_manufacturer = extract_car_manufacturer(car_description[0].text.strip())\n",
    "        car_model = extract_car_model(car_description[1].text.strip())\n",
    "        wheels_size = extract_wheels_size(car_description[2].text.strip())\n",
    "        car_color = extract_car_color(car_description[3].text.strip())\n",
    "        car_type = car_description[4].getText().split(\" \")[7] + \" \" + car_description[4].getText().split(\" \")[8]\n",
    "        cylinders = int(car_description[6].getText().split(\" \")[5])\n",
    "        interior_color = car_description[7].getText().split(\" \")[5]\n",
    "\n",
    "        data.append({'unit_link': link,\n",
    "                'unit_name': unit_name,\n",
    "                'mileage': mileage,\n",
    "                'unit': unit,\n",
    "                'price': price,\n",
    "                'currency': currency,\n",
    "                'car_location': car_location,\n",
    "                'fuel_type': fuel_type,\n",
    "                'model_year': model_year,\n",
    "                'car_manufacturer': car_manufacturer,\n",
    "                'car_model': car_model,\n",
    "                'wheels_size': wheels_size,\n",
    "                'car_color': car_color,\n",
    "                'car_type': car_type,\n",
    "                'cylinders': cylinders,\n",
    "                'interior_color': interior_color})\n",
    "    except:\n",
    "        pass\n",
    "\n",
    "with tqdm(total=len(links)) as pbar:\n",
    "    threads = []\n",
    "    for i in range(0, len(links)):\n",
    "        url = links[i]\n",
    "        t = threading.Thread(target=extract_car_data, args=(url,))\n",
    "        threads.append(t)\n",
    "        t.start()\n",
    "        pbar.update(1)\n",
    "        time.sleep(0.01)\n",
    "\n",
    "for t in threads:\n",
    "    t.join()\n",
    "\n",
    "df = pd.DataFrame(data)\n",
    "df.to_csv('dubicars.csv', index=False)"
   ],
   "metadata": {
    "collapsed": false
   }
  },
  {
   "cell_type": "markdown",
   "source": [
    "#NO MULTI THREADING CODE"
   ],
   "metadata": {
    "collapsed": false
   }
  },
  {
   "cell_type": "code",
   "execution_count": null,
   "outputs": [],
   "source": [
    "import requests\n",
    "from bs4 import BeautifulSoup\n",
    "import time\n",
    "from tqdm.notebook import tqdm\n",
    "\n",
    "links = []\n",
    "\n",
    "base_link = 'https://www.dubicars.com/search?view=&ms=yes&o=&ul=NL&ma=&mo=&b=&set=bu&pf=10000&c=new-and-used&eo=&stsd=&cr=USD&cy=&co=&s=&gi=&f=&g=&l=&st=&page='\n",
    "\n",
    "for i in tqdm(range(0, 20)):\n",
    "    url = f'{base_link}{i}'\n",
    "\n",
    "    r = requests.get(url)\n",
    "    html = BeautifulSoup(r.content, \"html.parser\")\n",
    "    res = html.find_all('a', class_='title fw-600 mt-12 d-block')\n",
    "\n",
    "    links.extend([\n",
    "        elem['href']\n",
    "        for elem in res\n",
    "    ])\n",
    "\n",
    "    time.sleep(2)"
   ],
   "metadata": {
    "collapsed": false
   }
  },
  {
   "cell_type": "code",
   "execution_count": null,
   "outputs": [],
   "source": [
    "import re\n",
    "from decimal import Decimal\n",
    "from tqdm.notebook import tqdm\n",
    "import pandas as pd\n",
    "\n",
    "\n",
    "def extract_mileage_and_unit(string):\n",
    "    pattern = r'\\d+\\,\\d+'\n",
    "    unit_pattern = r\"(\\w+)\"\n",
    "    try:\n",
    "        mileage = re.search(pattern, string).group()\n",
    "        unit = re.search(unit_pattern, string).group(1)\n",
    "        mileage = Decimal(mileage.replace(',', '.'))\n",
    "    except:\n",
    "        mileage = 0\n",
    "        unit = 'Kilometers'\n",
    "    return mileage, unit\n",
    "\n",
    "\n",
    "def extract_price_and_currency(string):\n",
    "    pattern = r'\\d+\\,\\d+'\n",
    "    big_pattern = r'\\d+\\,\\d+\\,\\d+'  # 1,000,000\n",
    "    if re.search(big_pattern, string):\n",
    "        price = re.search(big_pattern, string).group()\n",
    "        currency = string.replace(price, '').strip()\n",
    "        price = Decimal(price.replace(',', ''))\n",
    "\n",
    "\n",
    "    else:\n",
    "        price = re.search(pattern, string).group()\n",
    "        currency = string.replace(price, '').strip()\n",
    "        price = Decimal(price.replace(',', '.'))\n",
    "    return price, currency\n",
    "\n",
    "\n",
    "def extract_car_manufacturer(string):\n",
    "    pattern = r\"\\s+(.*)\"\n",
    "    result = re.search(pattern, string).group().strip()\n",
    "    return result\n",
    "\n",
    "\n",
    "def extract_car_model(string):\n",
    "    pattern = r\"\\s+(.*)\"\n",
    "    result = re.search(pattern, string).group().strip()\n",
    "    return result\n",
    "\n",
    "\n",
    "def extract_wheels_size(string):\n",
    "    pattern = r\"\\d+\"\n",
    "    result = int(re.search(pattern, string).group().strip())\n",
    "    return result\n",
    "\n",
    "\n",
    "def extract_car_color(string):\n",
    "    pattern = r\"\\s+(.*)\"\n",
    "    result = re.search(pattern, string).group().strip()\n",
    "    return result\n",
    "\n",
    "\n",
    "data = []\n",
    "for i in tqdm(range(0, len(links))):\n",
    "    try:\n",
    "        r = requests.get(links[i])\n",
    "        html = BeautifulSoup(r.content, \"html.parser\")\n",
    "\n",
    "        car_name = html.find_all('span', 'car-title fw-700')[0].text\n",
    "\n",
    "        car_location = html.find_all('span', 'icon-location location')[0].text.strip()\n",
    "\n",
    "        price = html.find_all('div', 'price')[0].text.strip()\n",
    "        price, currency = extract_price_and_currency(price)\n",
    "\n",
    "        mileage_string = html.find_all('li', 'icon-gauge')[0].text.strip()\n",
    "        mileage, unit = extract_mileage_and_unit(mileage_string)\n",
    "\n",
    "        fuel_type = html.select_one('.icon-fuel > a.text-underline').text.strip()\n",
    "        model_year = int(html.select_one('.icon-calendar > a.text-underline').text.strip().split(' ')[0])\n",
    "\n",
    "        car_description = html.findAll('li', 'fd-col')\n",
    "        car_manufacturer = extract_car_manufacturer(car_description[0].text.strip())\n",
    "        car_model = extract_car_model(car_description[1].text.strip())\n",
    "        wheels_size = extract_wheels_size(car_description[2].text.strip())\n",
    "        car_color = extract_car_color(car_description[3].text.strip())\n",
    "        car_type = car_description[4].getText().split(\" \")[7] + \" \" + car_description[4].getText().split(\" \")[8]\n",
    "        cylinders = int(car_description[6].getText().split(\" \")[5])\n",
    "        interior_color = car_description[7].getText().split(\" \")[5]\n",
    "\n",
    "        print(\"car name: \" + car_name)\n",
    "        print(\"mileage: {}\".format(mileage))\n",
    "        print(\"unit: \" + unit)\n",
    "        print(\"price: {}\".format(price))\n",
    "        print(\"currency: \" + currency)\n",
    "        print(\"car location: \" + car_location)\n",
    "        print(\"fuel type: \" + fuel_type)\n",
    "        print(\"model year: {}\".format(model_year))\n",
    "        print(\"car manufacturer: \" + car_manufacturer)\n",
    "        print(\"car model: \" + car_model)\n",
    "        print(\"wheels size: {}\".format(wheels_size))\n",
    "        print(\"car color: \" + car_color)\n",
    "        print(\"car type: \" + car_type)\n",
    "        print(\"cylinders: {}\".format(cylinders))\n",
    "        print(\"interior color: \" + interior_color)\n",
    "\n",
    "        print(\"---------------------------------------------------------------------------------------\")\n",
    "\n",
    "        data.append({'car_name': car_name,\n",
    "                     'mileage': mileage,\n",
    "                     'unit': unit,\n",
    "                     'price': price,\n",
    "                     'currency': currency,\n",
    "                     'car_location': car_location,\n",
    "                     'fuel_type': fuel_type,\n",
    "                     'model_year': model_year,\n",
    "                     'car_manufacturer': car_manufacturer,\n",
    "                     'car_model': car_model,\n",
    "                     'wheels_size': wheels_size,\n",
    "                     'car_color': car_color,\n",
    "                     'car_type': car_type,\n",
    "                     'cylinders': cylinders,\n",
    "                     'interior_color': interior_color})\n",
    "    except:\n",
    "        pass\n",
    "\n",
    "df = pd.DataFrame(data)\n",
    "df.to_csv('dubicars.csv', index=False)"
   ],
   "metadata": {
    "collapsed": false
   }
  }
 ],
 "metadata": {
  "kernelspec": {
   "display_name": "Python 3",
   "language": "python",
   "name": "python3"
  },
  "language_info": {
   "codemirror_mode": {
    "name": "ipython",
    "version": 2
   },
   "file_extension": ".py",
   "mimetype": "text/x-python",
   "name": "python",
   "nbconvert_exporter": "python",
   "pygments_lexer": "ipython2",
   "version": "2.7.6"
  }
 },
 "nbformat": 4,
 "nbformat_minor": 0
}
